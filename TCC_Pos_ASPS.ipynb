{
  "nbformat": 4,
  "nbformat_minor": 0,
  "metadata": {
    "colab": {
      "name": "TCC_Pos_ASPS.ipynb",
      "provenance": [],
      "collapsed_sections": [],
      "authorship_tag": "ABX9TyNJy7KVkYZEd/GMRwr3jGuR",
      "include_colab_link": true
    },
    "kernelspec": {
      "name": "python3",
      "display_name": "Python 3"
    },
    "language_info": {
      "name": "python"
    }
  },
  "cells": [
    {
      "cell_type": "markdown",
      "metadata": {
        "id": "view-in-github",
        "colab_type": "text"
      },
      "source": [
        "<a href=\"https://colab.research.google.com/github/psfleury/Data_Science_Projects/blob/main/TCC_Pos_ASPS.ipynb\" target=\"_parent\"><img src=\"https://colab.research.google.com/assets/colab-badge.svg\" alt=\"Open In Colab\"/></a>"
      ]
    },
    {
      "cell_type": "code",
      "metadata": {
        "colab": {
          "base_uri": "https://localhost:8080/"
        },
        "id": "V-9FYVA645A2",
        "outputId": "a54ef6f5-61d4-4524-a4e9-9efe4ca3cf03"
      },
      "source": [
        "import os\n",
        "import numpy as np\n",
        "import pandas as pd\n",
        "import matplotlib.pyplot as plt\n",
        "import string\n",
        "import nltk\n",
        "nltk.download('stopwords')\n",
        "nltk.download('rslp')\n",
        "from nltk.stem import SnowballStemmer\n",
        "from nltk.stem import PorterStemmer\n",
        "from nltk.corpus import stopwords\n",
        "from sklearn.feature_extraction.text import TfidfVectorizer\n",
        "from sklearn.model_selection import train_test_split\n",
        "from sklearn.feature_extraction.text import CountVectorizer, TfidfVectorizer\n",
        "import sklearn.feature_extraction.text as text\n",
        "from sklearn import model_selection, preprocessing, linear_model, naive_bayes, metrics, svm, tree, neighbors, discriminant_analysis\n",
        "from sklearn.ensemble import RandomForestClassifier\n",
        "from textblob import TextBlob\n",
        "from textblob import Word"
      ],
      "execution_count": 4,
      "outputs": [
        {
          "output_type": "stream",
          "name": "stdout",
          "text": [
            "[nltk_data] Downloading package stopwords to /root/nltk_data...\n",
            "[nltk_data]   Package stopwords is already up-to-date!\n",
            "[nltk_data] Downloading package rslp to /root/nltk_data...\n",
            "[nltk_data]   Package rslp is already up-to-date!\n"
          ]
        }
      ]
    },
    {
      "cell_type": "code",
      "metadata": {
        "id": "yr_opKP-jmrm"
      },
      "source": [
        "# Importando o dataset a ser utilizado, com as dimensões de interesse\n",
        "col_list = ['de_Historico', 'tp_Operacao']\n",
        "df = pd.read_csv('https://raw.githubusercontent.com/psfleury/Data_Science_Projects/main/3%20-%20ASPS/Empenhos_ASPS_2012_a_2018.txt', sep='|', usecols=col_list)"
      ],
      "execution_count": null,
      "outputs": []
    },
    {
      "cell_type": "code",
      "metadata": {
        "colab": {
          "base_uri": "https://localhost:8080/"
        },
        "id": "8sIYz_SZ3WwZ",
        "outputId": "aacd2e1d-ac99-4859-f64f-1a0e150f983e"
      },
      "source": [
        "df.shape"
      ],
      "execution_count": null,
      "outputs": [
        {
          "output_type": "execute_result",
          "data": {
            "text/plain": [
              "(53255, 2)"
            ]
          },
          "metadata": {},
          "execution_count": 4
        }
      ]
    },
    {
      "cell_type": "code",
      "metadata": {
        "colab": {
          "base_uri": "https://localhost:8080/"
        },
        "id": "gFPwS3sw23M2",
        "outputId": "f82e00a8-9a27-4d7a-b196-72d0e4643bb6"
      },
      "source": [
        "# Avaliar os valores nulos\n",
        "(df.isnull().sum() * 100  / df.shape[0]).sort_values(ascending=False)"
      ],
      "execution_count": null,
      "outputs": [
        {
          "output_type": "execute_result",
          "data": {
            "text/plain": [
              "de_Historico    0.009389\n",
              "tp_Operacao     0.000000\n",
              "dtype: float64"
            ]
          },
          "metadata": {},
          "execution_count": 5
        }
      ]
    },
    {
      "cell_type": "code",
      "metadata": {
        "id": "OiCxhu4t3L8h"
      },
      "source": [
        "# Tendo em vista que o campo \"de_Historico\" possui baixíssima quantidade de valores nulos, tais registros serão retirados da base\n",
        "df.dropna(inplace=True)"
      ],
      "execution_count": null,
      "outputs": []
    },
    {
      "cell_type": "code",
      "metadata": {
        "colab": {
          "base_uri": "https://localhost:8080/"
        },
        "id": "sQ8_BeZX3fJB",
        "outputId": "49e249ca-d5b3-4aea-cffe-e760f4efa5ab"
      },
      "source": [
        "# Confirmando que apenas 5 registros foram excluídos\n",
        "df.shape"
      ],
      "execution_count": null,
      "outputs": [
        {
          "output_type": "execute_result",
          "data": {
            "text/plain": [
              "(53250, 2)"
            ]
          },
          "metadata": {},
          "execution_count": 7
        }
      ]
    },
    {
      "cell_type": "code",
      "metadata": {
        "colab": {
          "base_uri": "https://localhost:8080/",
          "height": 206
        },
        "id": "LCFg69axOz2V",
        "outputId": "f4830807-5f44-4604-8adb-c0fd885667d5"
      },
      "source": [
        "df.head()"
      ],
      "execution_count": null,
      "outputs": [
        {
          "output_type": "execute_result",
          "data": {
            "text/html": [
              "<div>\n",
              "<style scoped>\n",
              "    .dataframe tbody tr th:only-of-type {\n",
              "        vertical-align: middle;\n",
              "    }\n",
              "\n",
              "    .dataframe tbody tr th {\n",
              "        vertical-align: top;\n",
              "    }\n",
              "\n",
              "    .dataframe thead th {\n",
              "        text-align: right;\n",
              "    }\n",
              "</style>\n",
              "<table border=\"1\" class=\"dataframe\">\n",
              "  <thead>\n",
              "    <tr style=\"text-align: right;\">\n",
              "      <th></th>\n",
              "      <th>tp_Operacao</th>\n",
              "      <th>de_Historico</th>\n",
              "    </tr>\n",
              "  </thead>\n",
              "  <tbody>\n",
              "    <tr>\n",
              "      <th>1</th>\n",
              "      <td>E</td>\n",
              "      <td>aquisição de pilhas para a  Secretaria de Saúd...</td>\n",
              "    </tr>\n",
              "    <tr>\n",
              "      <th>2</th>\n",
              "      <td>E</td>\n",
              "      <td>guias de recolhimento do INSS empresa (Saude),...</td>\n",
              "    </tr>\n",
              "    <tr>\n",
              "      <th>3</th>\n",
              "      <td>E</td>\n",
              "      <td>guias de recolhimento do INSS empresa (saúde),...</td>\n",
              "    </tr>\n",
              "    <tr>\n",
              "      <th>4</th>\n",
              "      <td>E</td>\n",
              "      <td>ajuda financeira para tratamento de saúde do  ...</td>\n",
              "    </tr>\n",
              "    <tr>\n",
              "      <th>5</th>\n",
              "      <td>E</td>\n",
              "      <td>ajuda financeira para tratamento de saúde do f...</td>\n",
              "    </tr>\n",
              "  </tbody>\n",
              "</table>\n",
              "</div>"
            ],
            "text/plain": [
              "  tp_Operacao                                       de_Historico\n",
              "1           E  aquisição de pilhas para a  Secretaria de Saúd...\n",
              "2           E  guias de recolhimento do INSS empresa (Saude),...\n",
              "3           E  guias de recolhimento do INSS empresa (saúde),...\n",
              "4           E  ajuda financeira para tratamento de saúde do  ...\n",
              "5           E  ajuda financeira para tratamento de saúde do f..."
            ]
          },
          "metadata": {},
          "execution_count": 8
        }
      ]
    },
    {
      "cell_type": "code",
      "metadata": {
        "colab": {
          "base_uri": "https://localhost:8080/",
          "height": 385
        },
        "id": "IiK7Am1NEgUl",
        "outputId": "9a4ee6a7-0caa-46f2-f747-9433a211188e"
      },
      "source": [
        "# São duas classes: \"E\" e \"I\". Nesse caso, importante ver se elas estão balanceadas no dataset\n",
        "import matplotlib.pyplot as plt\n",
        "fig = plt.figure(figsize=(8,6))\n",
        "df.groupby('tp_Operacao').de_Historico.count().plot.bar(ylim=0)\n",
        "plt.show()"
      ],
      "execution_count": null,
      "outputs": [
        {
          "output_type": "display_data",
          "data": {
            "image/png": "[encoded data removed]",
            "text/plain": [
              "<Figure size 576x432 with 1 Axes>"
            ]
          },
          "metadata": {
            "needs_background": "light"
          }
        }
      ]
    },
    {
      "cell_type": "code",
      "metadata": {
        "id": "wCn1cK3X3zrj"
      },
      "source": [
        "# Converter todas os caracteres do campo de_Historico em letras minúsculas\n",
        "df['de_Historico'] = df['de_Historico'].apply(lambda x: \" \".join(x.lower() for x in x.split()))\n"
      ],
      "execution_count": null,
      "outputs": []
    },
    {
      "cell_type": "code",
      "metadata": {
        "colab": {
          "base_uri": "https://localhost:8080/",
          "height": 206
        },
        "id": "mg2BnUpQpjpD",
        "outputId": "91e2436d-ec3f-4ade-f628-2476f2dac0a7"
      },
      "source": [
        "df.head()"
      ],
      "execution_count": null,
      "outputs": [
        {
          "output_type": "execute_result",
          "data": {
            "text/html": [
              "<div>\n",
              "<style scoped>\n",
              "    .dataframe tbody tr th:only-of-type {\n",
              "        vertical-align: middle;\n",
              "    }\n",
              "\n",
              "    .dataframe tbody tr th {\n",
              "        vertical-align: top;\n",
              "    }\n",
              "\n",
              "    .dataframe thead th {\n",
              "        text-align: right;\n",
              "    }\n",
              "</style>\n",
              "<table border=\"1\" class=\"dataframe\">\n",
              "  <thead>\n",
              "    <tr style=\"text-align: right;\">\n",
              "      <th></th>\n",
              "      <th>tp_Operacao</th>\n",
              "      <th>de_Historico</th>\n",
              "    </tr>\n",
              "  </thead>\n",
              "  <tbody>\n",
              "    <tr>\n",
              "      <th>1</th>\n",
              "      <td>E</td>\n",
              "      <td>aquisição de pilhas para a secretaria de saúde...</td>\n",
              "    </tr>\n",
              "    <tr>\n",
              "      <th>2</th>\n",
              "      <td>E</td>\n",
              "      <td>guias de recolhimento do inss empresa (saude),...</td>\n",
              "    </tr>\n",
              "    <tr>\n",
              "      <th>3</th>\n",
              "      <td>E</td>\n",
              "      <td>guias de recolhimento do inss empresa (saúde),...</td>\n",
              "    </tr>\n",
              "    <tr>\n",
              "      <th>4</th>\n",
              "      <td>E</td>\n",
              "      <td>ajuda financeira para tratamento de saúde do s...</td>\n",
              "    </tr>\n",
              "    <tr>\n",
              "      <th>5</th>\n",
              "      <td>E</td>\n",
              "      <td>ajuda financeira para tratamento de saúde do f...</td>\n",
              "    </tr>\n",
              "  </tbody>\n",
              "</table>\n",
              "</div>"
            ],
            "text/plain": [
              "  tp_Operacao                                       de_Historico\n",
              "1           E  aquisição de pilhas para a secretaria de saúde...\n",
              "2           E  guias de recolhimento do inss empresa (saude),...\n",
              "3           E  guias de recolhimento do inss empresa (saúde),...\n",
              "4           E  ajuda financeira para tratamento de saúde do s...\n",
              "5           E  ajuda financeira para tratamento de saúde do f..."
            ]
          },
          "metadata": {},
          "execution_count": 165
        }
      ]
    },
    {
      "cell_type": "code",
      "metadata": {
        "id": "QYghW6Tt2sum"
      },
      "source": [
        "# armazenando stopwords da língua portuguesa obtidas no pacote nltk para uma lista\n",
        "stop = stopwords.words('portuguese')"
      ],
      "execution_count": null,
      "outputs": []
    },
    {
      "cell_type": "code",
      "metadata": {
        "id": "QeR4XsnQ4bmp"
      },
      "source": [
        "# retirando as stopwords da descrição dos empenhos\n",
        "df['de_Historico'] = df['de_Historico'].apply(lambda x: \" \".join(x for x in x.split() if x not in stop))"
      ],
      "execution_count": null,
      "outputs": []
    },
    {
      "cell_type": "code",
      "metadata": {
        "id": "Fh1SLvsZ1vRb",
        "colab": {
          "base_uri": "https://localhost:8080/",
          "height": 206
        },
        "outputId": "e5e9c0e6-36c0-47ee-fdad-bcc369ab2cdc"
      },
      "source": [
        "df.head()"
      ],
      "execution_count": null,
      "outputs": [
        {
          "output_type": "execute_result",
          "data": {
            "text/html": [
              "<div>\n",
              "<style scoped>\n",
              "    .dataframe tbody tr th:only-of-type {\n",
              "        vertical-align: middle;\n",
              "    }\n",
              "\n",
              "    .dataframe tbody tr th {\n",
              "        vertical-align: top;\n",
              "    }\n",
              "\n",
              "    .dataframe thead th {\n",
              "        text-align: right;\n",
              "    }\n",
              "</style>\n",
              "<table border=\"1\" class=\"dataframe\">\n",
              "  <thead>\n",
              "    <tr style=\"text-align: right;\">\n",
              "      <th></th>\n",
              "      <th>tp_Operacao</th>\n",
              "      <th>de_Historico</th>\n",
              "    </tr>\n",
              "  </thead>\n",
              "  <tbody>\n",
              "    <tr>\n",
              "      <th>1</th>\n",
              "      <td>E</td>\n",
              "      <td>aquisição pilhas secretaria saúde deste municipio</td>\n",
              "    </tr>\n",
              "    <tr>\n",
              "      <th>2</th>\n",
              "      <td>E</td>\n",
              "      <td>guias recolhimento inss empresa (saude), relat...</td>\n",
              "    </tr>\n",
              "    <tr>\n",
              "      <th>3</th>\n",
              "      <td>E</td>\n",
              "      <td>guias recolhimento inss empresa (saúde), relat...</td>\n",
              "    </tr>\n",
              "    <tr>\n",
              "      <th>4</th>\n",
              "      <td>E</td>\n",
              "      <td>ajuda financeira tratamento saúde sr. gilvan s...</td>\n",
              "    </tr>\n",
              "    <tr>\n",
              "      <th>5</th>\n",
              "      <td>E</td>\n",
              "      <td>ajuda financeira tratamento saúde filho sra el...</td>\n",
              "    </tr>\n",
              "  </tbody>\n",
              "</table>\n",
              "</div>"
            ],
            "text/plain": [
              "  tp_Operacao                                       de_Historico\n",
              "1           E  aquisição pilhas secretaria saúde deste municipio\n",
              "2           E  guias recolhimento inss empresa (saude), relat...\n",
              "3           E  guias recolhimento inss empresa (saúde), relat...\n",
              "4           E  ajuda financeira tratamento saúde sr. gilvan s...\n",
              "5           E  ajuda financeira tratamento saúde filho sra el..."
            ]
          },
          "metadata": {},
          "execution_count": 168
        }
      ]
    },
    {
      "cell_type": "code",
      "metadata": {
        "id": "ZrqqhPaU6ipw"
      },
      "source": [
        "# Faz o stemming para tirar prefixos e sufixos\n",
        "stemmer = nltk.stem.RSLPStemmer()\n",
        "df['de_Historico'] = df['de_Historico'].apply(lambda x: \" \".join([stemmer.stem(word) for word in x.split()]))"
      ],
      "execution_count": null,
      "outputs": []
    },
    {
      "cell_type": "code",
      "metadata": {
        "colab": {
          "base_uri": "https://localhost:8080/",
          "height": 206
        },
        "id": "qy61FPIv8zjF",
        "outputId": "4330469c-478e-48b7-cf7d-5c8a23859da0"
      },
      "source": [
        "df.head()"
      ],
      "execution_count": null,
      "outputs": [
        {
          "output_type": "execute_result",
          "data": {
            "text/html": [
              "<div>\n",
              "<style scoped>\n",
              "    .dataframe tbody tr th:only-of-type {\n",
              "        vertical-align: middle;\n",
              "    }\n",
              "\n",
              "    .dataframe tbody tr th {\n",
              "        vertical-align: top;\n",
              "    }\n",
              "\n",
              "    .dataframe thead th {\n",
              "        text-align: right;\n",
              "    }\n",
              "</style>\n",
              "<table border=\"1\" class=\"dataframe\">\n",
              "  <thead>\n",
              "    <tr style=\"text-align: right;\">\n",
              "      <th></th>\n",
              "      <th>tp_Operacao</th>\n",
              "      <th>de_Historico</th>\n",
              "    </tr>\n",
              "  </thead>\n",
              "  <tbody>\n",
              "    <tr>\n",
              "      <th>1</th>\n",
              "      <td>E</td>\n",
              "      <td>aquis pilh secret saúd dest municipi</td>\n",
              "    </tr>\n",
              "    <tr>\n",
              "      <th>2</th>\n",
              "      <td>E</td>\n",
              "      <td>gui recolh ins empr (saude), relat compet 11/2...</td>\n",
              "    </tr>\n",
              "    <tr>\n",
              "      <th>3</th>\n",
              "      <td>E</td>\n",
              "      <td>gui recolh ins empr (saúde), relat compet 11/2...</td>\n",
              "    </tr>\n",
              "    <tr>\n",
              "      <th>4</th>\n",
              "      <td>E</td>\n",
              "      <td>ajud financ trat saúd sr. gilvan so monteiro, ...</td>\n",
              "    </tr>\n",
              "    <tr>\n",
              "      <th>5</th>\n",
              "      <td>E</td>\n",
              "      <td>ajud financ trat saúd filh sra elane queiroz a...</td>\n",
              "    </tr>\n",
              "  </tbody>\n",
              "</table>\n",
              "</div>"
            ],
            "text/plain": [
              "  tp_Operacao                                       de_Historico\n",
              "1           E               aquis pilh secret saúd dest municipi\n",
              "2           E  gui recolh ins empr (saude), relat compet 11/2...\n",
              "3           E  gui recolh ins empr (saúde), relat compet 11/2...\n",
              "4           E  ajud financ trat saúd sr. gilvan so monteiro, ...\n",
              "5           E  ajud financ trat saúd filh sra elane queiroz a..."
            ]
          },
          "metadata": {},
          "execution_count": 170
        }
      ]
    },
    {
      "cell_type": "code",
      "metadata": {
        "id": "5U7xtoYO9Tu5"
      },
      "source": [
        "# Dividindo dados em parcelas de treino e teste\n",
        "train_x, valid_x, train_y, valid_y = model_selection.train_test_split(df[\"de_Historico\"], df['tp_Operacao'])"
      ],
      "execution_count": null,
      "outputs": []
    },
    {
      "cell_type": "code",
      "metadata": {
        "id": "fa3UPCdM-gDK"
      },
      "source": [
        "# TFIDF geração de features para um máximo de 5000 features\n",
        "encoder = preprocessing.LabelEncoder()\n",
        "train_y = encoder.fit_transform(train_y)\n",
        "valid_y = encoder.fit_transform(valid_y)\n",
        "tfidf_vect = TfidfVectorizer(analyzer='word', token_pattern=r'\\w{1,}', max_features=5000)\n",
        "tfidf_vect.fit(train_x)\n",
        "xtrain_tfidf = tfidf_vect.transform(train_x)\n",
        "xvalid_tfidf = tfidf_vect.transform(valid_x)"
      ],
      "execution_count": null,
      "outputs": []
    },
    {
      "cell_type": "code",
      "metadata": {
        "id": "gX96HVzA-gsY"
      },
      "source": [
        "# Função padrão para treinamento de qualquer modelo\n",
        "def train_model(classifier, feature_vector_train, label, feature_vector_valid, is_neural_net=False):\n",
        "  # fit the training dataset on the classifier\n",
        "  classifier.fit(feature_vector_train, label)\n",
        "  # predict the labels on validation dataset\n",
        "  predictions = classifier.predict(feature_vector_valid)\n",
        "  return metrics.accuracy_score(predictions, valid_y)"
      ],
      "execution_count": null,
      "outputs": []
    },
    {
      "cell_type": "code",
      "metadata": {
        "colab": {
          "base_uri": "https://localhost:8080/"
        },
        "id": "QDrCdWqSTpo-",
        "outputId": "3c04d0e1-ec74-4f9c-819f-06ead4aacdc0"
      },
      "source": [
        "# Identificando melhor alpha para naive bayes, armazenando a acurácia de acordo com cada valor de alpha em um dicionário\n",
        "resultados_bayes = {}\n",
        "for i in range(0, 1000, 25):\n",
        "  accuracy = train_model(naive_bayes.MultinomialNB(alpha=i/1000), xtrain_tfidf, train_y, xvalid_tfidf)\n",
        "  resultados_bayes[i/1000] = accuracy"
      ],
      "execution_count": null,
      "outputs": [
        {
          "output_type": "stream",
          "name": "stderr",
          "text": [
            "/usr/local/lib/python3.7/dist-packages/sklearn/naive_bayes.py:557: UserWarning: alpha too small will result in numeric errors, setting alpha = 1.0e-10\n",
            "  % _ALPHA_MIN\n"
          ]
        }
      ]
    },
    {
      "cell_type": "code",
      "metadata": {
        "colab": {
          "base_uri": "https://localhost:8080/"
        },
        "id": "PUyNd573eN9v",
        "outputId": "674d16f6-3103-433a-909f-64ab51657668"
      },
      "source": [
        "# armazena o valor de alpha que maximiza a acurácia de naive bayes\n",
        "alpha_bayes = list(resultados_bayes.keys())[list(resultados_bayes.values()).index(max(resultados_bayes.values()))]\n",
        "print(list(resultados_bayes.keys())[list(resultados_bayes.values()).index(max(resultados_bayes.values()))])  "
      ],
      "execution_count": null,
      "outputs": [
        {
          "output_type": "stream",
          "name": "stdout",
          "text": [
            "0.025\n"
          ]
        }
      ]
    },
    {
      "cell_type": "code",
      "metadata": {
        "colab": {
          "base_uri": "https://localhost:8080/"
        },
        "id": "uBMvLXa_gTsK",
        "outputId": "8a2fc30d-a5ce-46bf-9ff4-63fa05a959ab"
      },
      "source": [
        "# Identificando melhor valor de n para ser utilizado no modelo de vizinhos mais próximos\n",
        "resultados_knn = {}\n",
        "for i in range(1, 20, 1):\n",
        "  accuracy = train_model(neighbors.KNeighborsClassifier(n_neighbors=i), xtrain_tfidf, train_y, xvalid_tfidf)\n",
        "  resultados_knn[i] = accuracy\n",
        "\n",
        "# armazena o valor de alpha que maximiza a acurácia de naive bayes\n",
        "n_knn = list(resultados_knn.keys())[list(resultados_knn.values()).index(max(resultados_knn.values()))]\n",
        "print(list(resultados_knn.keys())[list(resultados_knn.values()).index(max(resultados_knn.values()))])  "
      ],
      "execution_count": null,
      "outputs": [
        {
          "output_type": "stream",
          "name": "stdout",
          "text": [
            "1\n"
          ]
        }
      ]
    },
    {
      "cell_type": "code",
      "metadata": {
        "colab": {
          "base_uri": "https://localhost:8080/"
        },
        "id": "I59d40xb-hEg",
        "outputId": "0ed8f7bf-c75b-40a7-d3fc-2fb9836941c5"
      },
      "source": [
        "# Treinamento do modelo Naive Bayes\n",
        "accuracy = train_model(naive_bayes.MultinomialNB(alpha=0.05), xtrain_tfidf, train_y, xvalid_tfidf)\n",
        "print (\"Accuracy: \", accuracy)"
      ],
      "execution_count": null,
      "outputs": [
        {
          "output_type": "stream",
          "name": "stdout",
          "text": [
            "Accuracy:  0.9431382858859761\n"
          ]
        }
      ]
    },
    {
      "cell_type": "code",
      "metadata": {
        "colab": {
          "base_uri": "https://localhost:8080/"
        },
        "id": "YWsWsOdI-hTg",
        "outputId": "9431a3c1-964f-4455-c758-ce3efd5dddd7"
      },
      "source": [
        "# Treinamento com Regressão logística\n",
        "accuracy = train_model(linear_model.LogisticRegression(), xtrain_tfidf, train_y, xvalid_tfidf)\n",
        "print (\"Accuracy: \", accuracy)"
      ],
      "execution_count": null,
      "outputs": [
        {
          "output_type": "stream",
          "name": "stdout",
          "text": [
            "Accuracy:  0.9648463907458875\n"
          ]
        }
      ]
    },
    {
      "cell_type": "code",
      "metadata": {
        "colab": {
          "base_uri": "https://localhost:8080/"
        },
        "id": "D9Wx-yzdKA9n",
        "outputId": "12fed0f9-d001-4258-ec43-b014d1a0d5c9"
      },
      "source": [
        "# Treinamento com Vizinhos mais próximos\n",
        "accuracy = train_model(neighbors.KNeighborsClassifier(n_neighbors=1), xtrain_tfidf, train_y, xvalid_tfidf)\n",
        "print (\"Accuracy: \", accuracy)"
      ],
      "execution_count": null,
      "outputs": [
        {
          "output_type": "stream",
          "name": "stdout",
          "text": [
            "Accuracy:  0.9809209043791782\n"
          ]
        }
      ]
    },
    {
      "cell_type": "code",
      "metadata": {
        "colab": {
          "base_uri": "https://localhost:8080/"
        },
        "id": "wUTgWK3rKBT2",
        "outputId": "daec937b-50f2-452f-dfa7-0ff1b207ab6f"
      },
      "source": [
        "# Treinamento com SVM\n",
        "accuracy = train_model(svm.SVC(), xtrain_tfidf, train_y, xvalid_tfidf)\n",
        "print (\"Accuracy: \", accuracy)"
      ],
      "execution_count": null,
      "outputs": [
        {
          "output_type": "stream",
          "name": "stdout",
          "text": [
            "Accuracy:  0.985502891910163\n"
          ]
        }
      ]
    },
    {
      "cell_type": "code",
      "metadata": {
        "colab": {
          "base_uri": "https://localhost:8080/"
        },
        "id": "9W72ZF_qKBeW",
        "outputId": "0ac17a94-386f-452b-8699-0573fa1fc220"
      },
      "source": [
        "# Treinamento com Árvore de decisão\n",
        "accuracy = train_model(tree.DecisionTreeClassifier(), xtrain_tfidf, train_y, xvalid_tfidf)\n",
        "print (\"Accuracy: \", accuracy)"
      ],
      "execution_count": null,
      "outputs": [
        {
          "output_type": "stream",
          "name": "stdout",
          "text": [
            "Accuracy:  0.9749117404041163\n"
          ]
        }
      ]
    },
    {
      "cell_type": "code",
      "metadata": {
        "colab": {
          "base_uri": "https://localhost:8080/"
        },
        "id": "kBSBX7rzKBoO",
        "outputId": "123c1258-4729-45bc-c52e-7c669578a74a"
      },
      "source": [
        "# Treinamento com Random Forest\n",
        "accuracy = train_model(RandomForestClassifier(), xtrain_tfidf, train_y, xvalid_tfidf)\n",
        "print (\"Accuracy: \", accuracy)"
      ],
      "execution_count": null,
      "outputs": [
        {
          "output_type": "stream",
          "name": "stdout",
          "text": [
            "Accuracy:  0.9819725080748141\n"
          ]
        }
      ]
    },
    {
      "cell_type": "code",
      "metadata": {
        "id": "MEpdLM5iNwhX"
      },
      "source": [
        ""
      ],
      "execution_count": null,
      "outputs": []
    }
  ]
}