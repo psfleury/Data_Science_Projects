{
  "nbformat": 4,
  "nbformat_minor": 0,
  "metadata": {
    "colab": {
      "name": "TCC_Pos_ASPS_v2.ipynb",
      "provenance": [],
      "collapsed_sections": [],
      "authorship_tag": "ABX9TyNUEu1lkj4zvasVnxuydVgD",
      "include_colab_link": true
    },
    "kernelspec": {
      "name": "python3",
      "display_name": "Python 3"
    },
    "language_info": {
      "name": "python"
    }
  },
  "cells": [
    {
      "cell_type": "markdown",
      "metadata": {
        "id": "view-in-github",
        "colab_type": "text"
      },
      "source": [
        "<a href=\"https://colab.research.google.com/github/psfleury/Data_Science_Projects/blob/main/TCC_Pos_ASPS_v2_github.ipynb\" target=\"_parent\"><img src=\"https://colab.research.google.com/assets/colab-badge.svg\" alt=\"Open In Colab\"/></a>"
      ]
    },
    {
      "cell_type": "code",
      "metadata": {
        "colab": {
          "base_uri": "https://localhost:8080/"
        },
        "id": "V-9FYVA645A2",
        "outputId": "b9af00ec-7212-4810-b869-0b43fd86ab4e"
      },
      "source": [
        "# Importar as bibliotecas necessárias à análise. Em suma: pandas, numpy, matplotlib, nltk, sklearn (diversos) e random\n",
        "import numpy as np\n",
        "import pandas as pd\n",
        "import nltk\n",
        "nltk.download('stopwords')\n",
        "nltk.download('rslp')\n",
        "from nltk.corpus import stopwords\n",
        "import seaborn as sns\n",
        "from sklearn.model_selection import train_test_split\n",
        "from sklearn.pipeline import Pipeline\n",
        "from sklearn.feature_extraction.text import TfidfVectorizer\n",
        "from sklearn.preprocessing import OneHotEncoder\n",
        "from sklearn import model_selection, preprocessing, linear_model, naive_bayes, metrics, svm, tree, neighbors\n",
        "from sklearn.ensemble import RandomForestClassifier\n",
        "from sklearn.compose import ColumnTransformer\n",
        "from sklearn.metrics import confusion_matrix\n",
        "from sklearn.metrics import classification_report\n",
        "from sklearn.metrics import matthews_corrcoef\n",
        "from random import seed"
      ],
      "execution_count": 1,
      "outputs": [
        {
          "output_type": "stream",
          "name": "stdout",
          "text": [
            "[nltk_data] Downloading package stopwords to /root/nltk_data...\n",
            "[nltk_data]   Unzipping corpora/stopwords.zip.\n",
            "[nltk_data] Downloading package rslp to /root/nltk_data...\n",
            "[nltk_data]   Unzipping stemmers/rslp.zip.\n"
          ]
        }
      ]
    },
    {
      "cell_type": "code",
      "metadata": {
        "id": "yr_opKP-jmrm"
      },
      "source": [
        "# Importar o dataset a ser utilizado, com as dimensões de interesse\n",
        "col_list = ['dt_AnoEmpenho','cd_Ugestora','de_TipoRecursos','de_Historico', 'tp_Operacao'] \n",
        "df = pd.read_csv('https://raw.githubusercontent.com/psfleury/Data_Science_Projects/main/3%20-%20ASPS/Empenhos_ASPS_2012_a_2018.txt', sep='|', usecols=col_list)"
      ],
      "execution_count": 2,
      "outputs": []
    },
    {
      "cell_type": "code",
      "metadata": {
        "colab": {
          "base_uri": "https://localhost:8080/"
        },
        "id": "8sIYz_SZ3WwZ",
        "outputId": "4c52f46f-b91d-4762-bc31-eecdd97f903c"
      },
      "source": [
        "# Avaliar a quantidade de linhas (empenhos) e colunas (atributos) da base \"crua\"\n",
        "df.shape"
      ],
      "execution_count": 3,
      "outputs": [
        {
          "output_type": "execute_result",
          "data": {
            "text/plain": [
              "(53255, 5)"
            ]
          },
          "metadata": {},
          "execution_count": 3
        }
      ]
    },
    {
      "cell_type": "code",
      "source": [
        "df.drop_duplicates(inplace=True)"
      ],
      "metadata": {
        "id": "sez6PQfiXAGC"
      },
      "execution_count": 4,
      "outputs": []
    },
    {
      "cell_type": "code",
      "source": [
        "df.shape"
      ],
      "metadata": {
        "colab": {
          "base_uri": "https://localhost:8080/"
        },
        "id": "uQDWx07IXX5P",
        "outputId": "b725013f-c339-478c-d96e-6228b36bb70c"
      },
      "execution_count": 5,
      "outputs": [
        {
          "output_type": "execute_result",
          "data": {
            "text/plain": [
              "(36623, 5)"
            ]
          },
          "metadata": {},
          "execution_count": 5
        }
      ]
    },
    {
      "cell_type": "code",
      "source": [
        "df.head()"
      ],
      "metadata": {
        "colab": {
          "base_uri": "https://localhost:8080/",
          "height": 206
        },
        "id": "jRGOPI-JNgkT",
        "outputId": "a1740ad1-a4c7-43b2-9461-29606b52d8ec"
      },
      "execution_count": 6,
      "outputs": [
        {
          "output_type": "execute_result",
          "data": {
            "text/html": [
              "\n",
              "  <div id=\"df-2859e848-bf49-49ba-acb2-c75c10af4b51\">\n",
              "    <div class=\"colab-df-container\">\n",
              "      <div>\n",
              "<style scoped>\n",
              "    .dataframe tbody tr th:only-of-type {\n",
              "        vertical-align: middle;\n",
              "    }\n",
              "\n",
              "    .dataframe tbody tr th {\n",
              "        vertical-align: top;\n",
              "    }\n",
              "\n",
              "    .dataframe thead th {\n",
              "        text-align: right;\n",
              "    }\n",
              "</style>\n",
              "<table border=\"1\" class=\"dataframe\">\n",
              "  <thead>\n",
              "    <tr style=\"text-align: right;\">\n",
              "      <th></th>\n",
              "      <th>cd_Ugestora</th>\n",
              "      <th>de_TipoRecursos</th>\n",
              "      <th>tp_Operacao</th>\n",
              "      <th>dt_AnoEmpenho</th>\n",
              "      <th>de_Historico</th>\n",
              "    </tr>\n",
              "  </thead>\n",
              "  <tbody>\n",
              "    <tr>\n",
              "      <th>1</th>\n",
              "      <td>201039</td>\n",
              "      <td>Receita de Impostos e de Transferência de Impo...</td>\n",
              "      <td>E</td>\n",
              "      <td>2017</td>\n",
              "      <td>aquisição de pilhas para a  Secretaria de Saúd...</td>\n",
              "    </tr>\n",
              "    <tr>\n",
              "      <th>2</th>\n",
              "      <td>201039</td>\n",
              "      <td>Receita de Impostos e de Transferência de Impo...</td>\n",
              "      <td>E</td>\n",
              "      <td>2017</td>\n",
              "      <td>guias de recolhimento do INSS empresa (Saude),...</td>\n",
              "    </tr>\n",
              "    <tr>\n",
              "      <th>3</th>\n",
              "      <td>201039</td>\n",
              "      <td>Receita de Impostos e de Transferência de Impo...</td>\n",
              "      <td>E</td>\n",
              "      <td>2017</td>\n",
              "      <td>guias de recolhimento do INSS empresa (saúde),...</td>\n",
              "    </tr>\n",
              "    <tr>\n",
              "      <th>4</th>\n",
              "      <td>201039</td>\n",
              "      <td>Receita de Impostos e de Transferência de Impo...</td>\n",
              "      <td>E</td>\n",
              "      <td>2017</td>\n",
              "      <td>ajuda financeira para tratamento de saúde do  ...</td>\n",
              "    </tr>\n",
              "    <tr>\n",
              "      <th>5</th>\n",
              "      <td>201039</td>\n",
              "      <td>Receita de Impostos e de Transferência de Impo...</td>\n",
              "      <td>E</td>\n",
              "      <td>2017</td>\n",
              "      <td>ajuda financeira para tratamento de saúde do f...</td>\n",
              "    </tr>\n",
              "  </tbody>\n",
              "</table>\n",
              "</div>\n",
              "      <button class=\"colab-df-convert\" onclick=\"convertToInteractive('df-2859e848-bf49-49ba-acb2-c75c10af4b51')\"\n",
              "              title=\"Convert this dataframe to an interactive table.\"\n",
              "              style=\"display:none;\">\n",
              "        \n",
              "  <svg xmlns=\"http://www.w3.org/2000/svg\" height=\"24px\"viewBox=\"0 0 24 24\"\n",
              "       width=\"24px\">\n",
              "    <path d=\"M0 0h24v24H0V0z\" fill=\"none\"/>\n",
              "    <path d=\"M18.56 5.44l.94 2.06.94-2.06 2.06-.94-2.06-.94-.94-2.06-.94 2.06-2.06.94zm-11 1L8.5 8.5l.94-2.06 2.06-.94-2.06-.94L8.5 2.5l-.94 2.06-2.06.94zm10 10l.94 2.06.94-2.06 2.06-.94-2.06-.94-.94-2.06-.94 2.06-2.06.94z\"/><path d=\"M17.41 7.96l-1.37-1.37c-.4-.4-.92-.59-1.43-.59-.52 0-1.04.2-1.43.59L10.3 9.45l-7.72 7.72c-.78.78-.78 2.05 0 2.83L4 21.41c.39.39.9.59 1.41.59.51 0 1.02-.2 1.41-.59l7.78-7.78 2.81-2.81c.8-.78.8-2.07 0-2.86zM5.41 20L4 18.59l7.72-7.72 1.47 1.35L5.41 20z\"/>\n",
              "  </svg>\n",
              "      </button>\n",
              "      \n",
              "  <style>\n",
              "    .colab-df-container {\n",
              "      display:flex;\n",
              "      flex-wrap:wrap;\n",
              "      gap: 12px;\n",
              "    }\n",
              "\n",
              "    .colab-df-convert {\n",
              "      background-color: #E8F0FE;\n",
              "      border: none;\n",
              "      border-radius: 50%;\n",
              "      cursor: pointer;\n",
              "      display: none;\n",
              "      fill: #1967D2;\n",
              "      height: 32px;\n",
              "      padding: 0 0 0 0;\n",
              "      width: 32px;\n",
              "    }\n",
              "\n",
              "    .colab-df-convert:hover {\n",
              "      background-color: #E2EBFA;\n",
              "      box-shadow: 0px 1px 2px rgba(60, 64, 67, 0.3), 0px 1px 3px 1px rgba(60, 64, 67, 0.15);\n",
              "      fill: #174EA6;\n",
              "    }\n",
              "\n",
              "    [theme=dark] .colab-df-convert {\n",
              "      background-color: #3B4455;\n",
              "      fill: #D2E3FC;\n",
              "    }\n",
              "\n",
              "    [theme=dark] .colab-df-convert:hover {\n",
              "      background-color: #434B5C;\n",
              "      box-shadow: 0px 1px 3px 1px rgba(0, 0, 0, 0.15);\n",
              "      filter: drop-shadow(0px 1px 2px rgba(0, 0, 0, 0.3));\n",
              "      fill: #FFFFFF;\n",
              "    }\n",
              "  </style>\n",
              "\n",
              "      <script>\n",
              "        const buttonEl =\n",
              "          document.querySelector('#df-2859e848-bf49-49ba-acb2-c75c10af4b51 button.colab-df-convert');\n",
              "        buttonEl.style.display =\n",
              "          google.colab.kernel.accessAllowed ? 'block' : 'none';\n",
              "\n",
              "        async function convertToInteractive(key) {\n",
              "          const element = document.querySelector('#df-2859e848-bf49-49ba-acb2-c75c10af4b51');\n",
              "          const dataTable =\n",
              "            await google.colab.kernel.invokeFunction('convertToInteractive',\n",
              "                                                     [key], {});\n",
              "          if (!dataTable) return;\n",
              "\n",
              "          const docLinkHtml = 'Like what you see? Visit the ' +\n",
              "            '<a target=\"_blank\" href=https://colab.research.google.com/notebooks/data_table.ipynb>data table notebook</a>'\n",
              "            + ' to learn more about interactive tables.';\n",
              "          element.innerHTML = '';\n",
              "          dataTable['output_type'] = 'display_data';\n",
              "          await google.colab.output.renderOutput(dataTable, element);\n",
              "          const docLink = document.createElement('div');\n",
              "          docLink.innerHTML = docLinkHtml;\n",
              "          element.appendChild(docLink);\n",
              "        }\n",
              "      </script>\n",
              "    </div>\n",
              "  </div>\n",
              "  "
            ],
            "text/plain": [
              "   cd_Ugestora  ...                                       de_Historico\n",
              "1       201039  ...  aquisição de pilhas para a  Secretaria de Saúd...\n",
              "2       201039  ...  guias de recolhimento do INSS empresa (Saude),...\n",
              "3       201039  ...  guias de recolhimento do INSS empresa (saúde),...\n",
              "4       201039  ...  ajuda financeira para tratamento de saúde do  ...\n",
              "5       201039  ...  ajuda financeira para tratamento de saúde do f...\n",
              "\n",
              "[5 rows x 5 columns]"
            ]
          },
          "metadata": {},
          "execution_count": 6
        }
      ]
    },
    {
      "cell_type": "code",
      "metadata": {
        "colab": {
          "base_uri": "https://localhost:8080/"
        },
        "id": "gFPwS3sw23M2",
        "outputId": "316329ee-304e-4375-c91b-a81ab5b6fb5b"
      },
      "source": [
        "# Avaliar a quantidade absoluta e o percentual de valores nulos dos campos do dataset\n",
        "print(df.isnull().sum().sort_values(ascending=False))\n",
        "print((df.isnull().sum() * 100  / df.shape[0]).sort_values(ascending=False))"
      ],
      "execution_count": 7,
      "outputs": [
        {
          "output_type": "stream",
          "name": "stdout",
          "text": [
            "de_Historico       3\n",
            "dt_AnoEmpenho      0\n",
            "tp_Operacao        0\n",
            "de_TipoRecursos    0\n",
            "cd_Ugestora        0\n",
            "dtype: int64\n",
            "de_Historico       0.008192\n",
            "dt_AnoEmpenho      0.000000\n",
            "tp_Operacao        0.000000\n",
            "de_TipoRecursos    0.000000\n",
            "cd_Ugestora        0.000000\n",
            "dtype: float64\n"
          ]
        }
      ]
    },
    {
      "cell_type": "code",
      "metadata": {
        "id": "OiCxhu4t3L8h"
      },
      "source": [
        "# Excluir registros com descrição NaN na base\n",
        "df.dropna(inplace=True)"
      ],
      "execution_count": 8,
      "outputs": []
    },
    {
      "cell_type": "code",
      "metadata": {
        "colab": {
          "base_uri": "https://localhost:8080/"
        },
        "id": "sQ8_BeZX3fJB",
        "outputId": "0f9df064-eed2-49d5-e913-0476b5c4e3a2"
      },
      "source": [
        "# Confirmando que apenas 3 registros foram excluídos\n",
        "df.shape"
      ],
      "execution_count": 9,
      "outputs": [
        {
          "output_type": "execute_result",
          "data": {
            "text/plain": [
              "(36620, 5)"
            ]
          },
          "metadata": {},
          "execution_count": 9
        }
      ]
    },
    {
      "cell_type": "code",
      "metadata": {
        "id": "wCn1cK3X3zrj"
      },
      "source": [
        "# Converter a descrição de empenhos em caixa baixa\n",
        "df['de_Historico'] = df['de_Historico'].apply(lambda x: \" \".join(x.lower() for x in x.split()))"
      ],
      "execution_count": 10,
      "outputs": []
    },
    {
      "cell_type": "code",
      "metadata": {
        "id": "QYghW6Tt2sum"
      },
      "source": [
        "# Retirar as stopwords da descrição dos empenhos\n",
        "stop = stopwords.words('portuguese')\n",
        "df['de_Historico'] = df['de_Historico'].apply(lambda x: \" \".join(x for x in x.split() if x not in stop))"
      ],
      "execution_count": 11,
      "outputs": []
    },
    {
      "cell_type": "code",
      "metadata": {
        "id": "ZrqqhPaU6ipw"
      },
      "source": [
        "# Retirar prefixos e sufixos, de maneira a manter somente os radicais significativos\n",
        "stemmer = nltk.stem.RSLPStemmer()\n",
        "df['de_Historico'] = df['de_Historico'].apply(lambda x: \" \".join([stemmer.stem(word) for word in x.split()]))"
      ],
      "execution_count": 12,
      "outputs": []
    },
    {
      "cell_type": "code",
      "source": [
        "# Transformar variáveis categóricas em tipo \"category\"\n",
        "df[\"cd_Ugestora\"] = df[\"cd_Ugestora\"].astype(\"category\")\n",
        "df[\"de_TipoRecursos\"] = df[\"de_TipoRecursos\"].astype(\"category\")\n",
        "df[\"dt_AnoEmpenho\"] = df[\"dt_AnoEmpenho\"].astype(\"category\")"
      ],
      "metadata": {
        "id": "mf7Lje-tEUtn"
      },
      "execution_count": 13,
      "outputs": []
    },
    {
      "cell_type": "code",
      "source": [
        "# Separar dataset em bases de treino (train) e teste (valid) \n",
        "# mantendo proporção dos labels (estratify) e com uma seed aleatoriamente escolhida\n",
        "features = df[[\"cd_Ugestora\",\"de_TipoRecursos\",\"dt_AnoEmpenho\",\"de_Historico\"]]\n",
        "label = df['tp_Operacao']\n",
        "x_train, x_valid, y_train, y_valid = model_selection.train_test_split(features, label, random_state=857, stratify=label)"
      ],
      "metadata": {
        "id": "8PUdMYEOJ7K0"
      },
      "execution_count": 14,
      "outputs": []
    },
    {
      "cell_type": "code",
      "source": [
        "# dimensões dos dataframes gerados com o train_test_split\n",
        "print(x_train.shape)\n",
        "print(y_train.shape)\n",
        "print(x_valid.shape)\n",
        "print(y_valid.shape)"
      ],
      "metadata": {
        "colab": {
          "base_uri": "https://localhost:8080/"
        },
        "id": "Xh578ppmUSF0",
        "outputId": "27a4ec7f-e4b2-4f37-aaf3-834e5a284f00"
      },
      "execution_count": 15,
      "outputs": [
        {
          "output_type": "stream",
          "name": "stdout",
          "text": [
            "(27465, 4)\n",
            "(27465,)\n",
            "(9155, 4)\n",
            "(9155,)\n"
          ]
        }
      ]
    },
    {
      "cell_type": "code",
      "source": [
        "# Parametrizando o pré-processamento das features\n",
        "text_features = \"de_Historico\"\n",
        "text_transformer = TfidfVectorizer(analyzer='word', token_pattern=r'\\w{1,}', max_features=5000)\n",
        "\n",
        "categorical_features = [\"cd_Ugestora\",\"de_TipoRecursos\",\"dt_AnoEmpenho\"]\n",
        "categorical_transformer = OneHotEncoder(handle_unknown=\"ignore\")\n",
        "\n",
        "preprocessor = ColumnTransformer(\n",
        "    transformers=[\n",
        "        (\"text column\", text_transformer, text_features),\n",
        "        (\"categorical columns\", categorical_transformer, categorical_features),\n",
        "    ]\n",
        ")"
      ],
      "metadata": {
        "id": "z_BMqXt5URd6"
      },
      "execution_count": 16,
      "outputs": []
    },
    {
      "cell_type": "code",
      "source": [
        "# Cria função que cria pipeline o qual:\n",
        "# 1) Transforma as features de acordo com a parametrização feita no \"preprocessor\"\n",
        "# 2) Ajusta o modelo aos dados de treino (x_train, y_train)\n",
        "# 3) Realiza predições e avalia tais predições\n",
        "\n",
        "def train_model(classifier, feature_vector_train, label, feature_vector_valid, label_valid, is_neural_net=False):\n",
        "  clf = Pipeline(steps=[(\"preprocessor\", preprocessor), (\"classifier\", classifier)])\n",
        "  clf.fit(feature_vector_train, label)\n",
        "  pred_test = clf.predict(feature_vector_valid)\n",
        "  conf_mat = confusion_matrix(label_valid, pred_test)\n",
        "  fig, ax = plt.subplots(figsize=(10,10))\n",
        "  sns.heatmap(conf_mat, annot=True, fmt='d', xticklabels=[\"E\", \"I\"], yticklabels=[\"E\", \"I\"])\n",
        "  plt.ylabel('Rótulo real')\n",
        "  plt.xlabel('Rótulo previsto pelo modelo')\n",
        "  plt.gcf().set_size_inches(8, 6)\n",
        "  plt.show()\n",
        "  print(classification_report(label_valid, pred_test, digits=6))\n",
        "  print(\"Coeficiente de Matthew: %.6f\" % matthews_corrcoef(y_valid, pred_test))"
      ],
      "metadata": {
        "id": "FyS9oSv56U7Z"
      },
      "execution_count": 17,
      "outputs": []
    },
    {
      "cell_type": "code",
      "source": [
        "# Composição das classes no dataset total\n",
        "import matplotlib.pyplot as plt\n",
        "fig = plt.figure(figsize=(8,6))\n",
        "df.groupby('tp_Operacao').de_Historico.count().plot.bar(ylim=0)\n",
        "plt.show()"
      ],
      "metadata": {
        "colab": {
          "base_uri": "https://localhost:8080/",
          "height": 385
        },
        "id": "B1_bu3mFxps4",
        "outputId": "91f0f61f-b4d6-4914-d6ed-87aa1f2bf12c"
      },
      "execution_count": 18,
      "outputs": [
        {
          "output_type": "display_data",
          "data": {
            "image/png": "[encoded data removed]",
            "text/plain": [
              "<Figure size 576x432 with 1 Axes>"
            ]
          },
          "metadata": {
            "needs_background": "light"
          }
        }
      ]
    },
    {
      "cell_type": "markdown",
      "source": [
        "Serão treinados os seguintes modelos para a classificação binária em questão:\n",
        "*   Naive Bayes;\n",
        "*   K Nearest Neighbors;\n",
        "*   Regressão logística;\n",
        "*   Support Vector Machine;\n",
        "*   Decision Tree;\n",
        "*   Random Forest.\n",
        "\n",
        "Por fim, ressalta-se que a matriz de confusão gerada para cada modelo terá a seguinte configuração:\n",
        "![Matriz_de_Confusao.JPG](data:image/jpeg;base64,/9j/4AAQSkZJRgABAQEAYABgAAD/4RDyRXhpZgAATU0AKgAAAAgABAE7AAIAAAANAAAISodpAAQAAAABAAAIWJydAAEAAAAaAAAQ0OocAAcAAAgMAAAAPgAAAAAc6gAAAAgAAAAAAAAAAAAAAAAAAAAAAAAAAAAAAAAAAAAAAAAAAAAAAAAAAAAAAAAAAAAAAAAAAAAAAAAAAAAAAAAAAAAAAAAAAAAAAAAAAAAAAAAAAAAAAAAAAAAAAAAAAAAAAAAAAAAAAAAAAAAAAAAAAAAAAAAAAAAAAAAAAAAAAAAAAAAAAAAAAAAAAAAAAAAAAAAAAAAAAAAAAAAAAAAAAAAAAAAAAAAAAAAAAAAAAAAAAAAAAAAAAAAAAAAAAAAAAAAAAAAAAAAAAAAAAAAAAAAAAAAAAAAAAAAAAAAAAAAAAAAAAAAAAAAAAAAAAAAAAAAAAAAAAAAAAAAAAAAAAAAAAAAAAAAAAAAAAAAAAAAAAAAAAAAAAAAAAAAAAAAAAAAAAAAAAAAAAAAAAAAAAAAAAAAAAAAAAAAAAAAAAAAAAAAAAAAAAAAAAAAAAAAAAAAAAAAAAAAAAAAAAAAAAAAAAAAAAAAAAAAAAAAAAAAAAAAAAAAAAAAAAAAAAAAAAAAAAAAAAAAAAAAAAAAAAAAAAAAAAAAAAAAAAAAAAAAAAAAAAAAAAAAAAAAAAAAAAAAAAAAAAAAAAAAAAAAAAAAAAAAAAAAAAAAAAAAAAAAAAAAAAAAAAAAAAAAAAAAAAAAAAAAAAAAAAAAAAAAAAAAAAAAAAAAAAAAAAAAAAAAAAAAAAAAAAAAAAAAAAAAAAAAAAAAAAAAAAAAAAAAAAAAAAAAAAAAAAAAAAAAAAAAAAAAAAAAAAAAAAAAAAAAAAAAAAAAAAAAAAAAAAAAAAAAAAAAAAAAAAAAAAAAAAAAAAAAAAAAAAAAAAAAAAAAAAAAAAAAAAAAAAAAAAAAAAAAAAAAAAAAAAAAAAAAAAAAAAAAAAAAAAAAAAAAAAAAAAAAAAAAAAAAAAAAAAAAAAAAAAAAAAAAAAAAAAAAAAAAAAAAAAAAAAAAAAAAAAAAAAAAAAAAAAAAAAAAAAAAAAAAAAAAAAAAAAAAAAAAAAAAAAAAAAAAAAAAAAAAAAAAAAAAAAAAAAAAAAAAAAAAAAAAAAAAAAAAAAAAAAAAAAAAAAAAAAAAAAAAAAAAAAAAAAAAAAAAAAAAAAAAAAAAAAAAAAAAAAAAAAAAAAAAAAAAAAAAAAAAAAAAAAAAAAAAAAAAAAAAAAAAAAAAAAAAAAAAAAAAAAAAAAAAAAAAAAAAAAAAAAAAAAAAAAAAAAAAAAAAAAAAAAAAAAAAAAAAAAAAAAAAAAAAAAAAAAAAAAAAAAAAAAAAAAAAAAAAAAAAAAAAAAAAAAAAAAAAAAAAAAAAAAAAAAAAAAAAAAAAAAAAAAAAAAAAAAAAAAAAAAAAAAAAAAAAAAAAAAAAAAAAAAAAAAAAAAAAAAAAAAAAAAAAAAAAAAAAAAAAAAAAAAAAAAAAAAAAAAAAAAAAAAAAAAAAAAAAAAAAAAAAAAAAAAAAAAAAAAAAAAAAAAAAAAAAAAAAAAAAAAAAAAAAAAAAAAAAAAAAAAAAAAAAAAAAAAAAAAAAAAAAAAAAAAAAAAAAAAAAAAAAAAAAAAAAAAAAAAAAAAAAAAAAAAAAAAAAAAAAAAAAAAAAAAAAAAAAAAAAAAAAAAAAAAAAAAAAAAAAAAAAAAAAAAAAAAAAAAAAAAAAAAAAAAAAAAAAAAAAAAAAAAAAAAAAAAAAAAAAAAAAAAAAAAAAAAAAAAAAAAAAAAAAAAAAAAAAAAAAAAAAAAAAAAAAAAAAAAAAAAAAAAAAAAAAAAAAAAAAAAAAAAAAAAAAAAAAAAAAAAAAAAAAAAAAAAAAAAAAAAAAAAAAAAAAAAAAAAAAAAAAAAAAAAAAAAAAAAAAAAAAAAAAAAAAAAAAAAAAAAAAAAAAAAAAAAAAAAAAAAAAAAAAAAAAAAAAAAAAAAAAAAAAAAAAAAAAAAAAAAAAAAAAAAAAAAAAAAAAAAAAAAAAAAAAAAAAAAAAAAAAAAAAAAAAAAAAAAAAAAAAAAAAAAAAAAAAAAAAAAAAAAAAAAAAAAAAAAAAAAAAAAAAAAAAAAAAAAAAAAAAAAAAAAAAAAAAAAAAAAAAAAAAAAAAAAAAAAAAAAAAAAAAAAAAAAAAAAAAAAAAAAAAAAAAAAAAAAAAAAAAAAAAAAAAAAAAAAAAAAAAAAAAAAAAAAAAAAAAAAAAAAAAAAAAAAAAAAAAAAAAAAAAAAAAAAAAAAAAAAAAAAAAAAAAAAAAAAAAAAAAAAAAAAAAAAAAAAAAAAAAAAAAAAAAAAAAAAAAAAAAAAAAAAAAAAAAAAAAAAAAAAAAAAAAAAAAAAAAAAAAAAAAAAAAAAAAAAAAAAAAAAAAAAAAAAAAAAAAAAAAAAAAAAAAAAAAAAAAAAAAAAAAAAAAAAAAAAAAAAAAAAAAAAAAAAAAAAAAAAAAAAAAAAAAAAAAAAAAAAAAAAAAAAAAAAAAAAAAAAAAAAAAAAAAAAAAAAAAAAAAAAAAAAAAAAAAAAAAAAAAAAAAAAAAAAAAAAAAAAAAAAAAAAAAAAAAAAAAAAAAAAAAAAAAAAAAAAAAAAAAAAAAAAAAAAAAAAAAAAAAAAAAAAAAAAAAAAAAAAAAAAAAAAAAAAAAAAAAAAAAAAAAAAAAAAAAAAAAAAAAAAAAAAAAAAAAAAAAAAAAAAAAAAAAAAAAAAAAAAAAAAAAAAAAAAAAAAAAAAAAAAAAAAAAAAAAAAAAAAAAAAAAAAAAAAAAAAAAAAAAAAAAAAAAAAAAAAAAAAFBlZHJvIEZsZXVyeQAAAAWQAwACAAAAFAAAEKaQBAACAAAAFAAAELqSkQACAAAAAzE0AACSkgACAAAAAzE0AADqHAAHAAAIDAAACJoAAAAAHOoAAAAIAAAAAAAAAAAAAAAAAAAAAAAAAAAAAAAAAAAAAAAAAAAAAAAAAAAAAAAAAAAAAAAAAAAAAAAAAAAAAAAAAAAAAAAAAAAAAAAAAAAAAAAAAAAAAAAAAAAAAAAAAAAAAAAAAAAAAAAAAAAAAAAAAAAAAAAAAAAAAAAAAAAAAAAAAAAAAAAAAAAAAAAAAAAAAAAAAAAAAAAAAAAAAAAAAAAAAAAAAAAAAAAAAAAAAAAAAAAAAAAAAAAAAAAAAAAAAAAAAAAAAAAAAAAAAAAAAAAAAAAAAAAAAAAAAAAAAAAAAAAAAAAAAAAAAAAAAAAAAAAAAAAAAAAAAAAAAAAAAAAAAAAAAAAAAAAAAAAAAAAAAAAAAAAAAAAAAAAAAAAAAAAAAAAAAAAAAAAAAAAAAAAAAAAAAAAAAAAAAAAAAAAAAAAAAAAAAAAAAAAAAAAAAAAAAAAAAAAAAAAAAAAAAAAAAAAAAAAAAAAAAAAAAAAAAAAAAAAAAAAAAAAAAAAAAAAAAAAAAAAAAAAAAAAAAAAAAAAAAAAAAAAAAAAAAAAAAAAAAAAAAAAAAAAAAAAAAAAAAAAAAAAAAAAAAAAAAAAAAAAAAAAAAAAAAAAAAAAAAAAAAAAAAAAAAAAAAAAAAAAAAAAAAAAAAAAAAAAAAAAAAAAAAAAAAAAAAAAAAAAAAAAAAAAAAAAAAAAAAAAAAAAAAAAAAAAAAAAAAAAAAAAAAAAAAAAAAAAAAAAAAAAAAAAAAAAAAAAAAAAAAAAAAAAAAAAAAAAAAAAAAAAAAAAAAAAAAAAAAAAAAAAAAAAAAAAAAAAAAAAAAAAAAAAAAAAAAAAAAAAAAAAAAAAAAAAAAAAAAAAAAAAAAAAAAAAAAAAAAAAAAAAAAAAAAAAAAAAAAAAAAAAAAAAAAAAAAAAAAAAAAAAAAAAAAAAAAAAAAAAAAAAAAAAAAAAAAAAAAAAAAAAAAAAAAAAAAAAAAAAAAAAAAAAAAAAAAAAAAAAAAAAAAAAAAAAAAAAAAAAAAAAAAAAAAAAAAAAAAAAAAAAAAAAAAAAAAAAAAAAAAAAAAAAAAAAAAAAAAAAAAAAAAAAAAAAAAAAAAAAAAAAAAAAAAAAAAAAAAAAAAAAAAAAAAAAAAAAAAAAAAAAAAAAAAAAAAAAAAAAAAAAAAAAAAAAAAAAAAAAAAAAAAAAAAAAAAAAAAAAAAAAAAAAAAAAAAAAAAAAAAAAAAAAAAAAAAAAAAAAAAAAAAAAAAAAAAAAAAAAAAAAAAAAAAAAAAAAAAAAAAAAAAAAAAAAAAAAAAAAAAAAAAAAAAAAAAAAAAAAAAAAAAAAAAAAAAAAAAAAAAAAAAAAAAAAAAAAAAAAAAAAAAAAAAAAAAAAAAAAAAAAAAAAAAAAAAAAAAAAAAAAAAAAAAAAAAAAAAAAAAAAAAAAAAAAAAAAAAAAAAAAAAAAAAAAAAAAAAAAAAAAAAAAAAAAAAAAAAAAAAAAAAAAAAAAAAAAAAAAAAAAAAAAAAAAAAAAAAAAAAAAAAAAAAAAAAAAAAAAAAAAAAAAAAAAAAAAAAAAAAAAAAAAAAAAAAAAAAAAAAAAAAAAAAAAAAAAAAAAAAAAAAAAAAAAAAAAAAAAAAAAAAAAAAAAAAAAAAAAAAAAAAAAAAAAAAAAAAAAAAAAAAAAAAAAAAAAAAAAAAAAAAAAAAAAAAAAAAAAAAAAAAAAAAAAAAAAAAAAAAAAAAAAAAAAAAAAAAAAAAAAAAAAAAAAAAAAAAAAAAAAAAAAAAAAAAAAAAAAAAAAAAAAAAAAAAAAAAAAAAAAAAAAAAAAAAAAAAAAAAAAAAAAAAAAAAAAAAAAAAAAAAAAAAAAAAAAAAAAAAAAAAAAAAAAAAAAAAAAAAAAAAAAAAAAAAAAAAAAAAAAAAAAAAAAAAAAAAAAAAAAAAAAAAAAAAAAAAAAAAAAAAAAAAAAAAAAAAAAAAAAAAAAAAAAAAAAAAAAAAAAAAAAAAAAAAAAAAAAAAAAAAAAAAAAAAAAAAAAAAAAAAAAAAAAAAAAAAAAAAAAAAAAAAAAAAAAAAAAAAAAAAAAAAAAAAAAAAAAAAAAAAAAAAAAAAAAAAAAAAAAAAAAAAAAAAAAAAAAAAAAAAAAAAAAAAAAAAAAAAAAAAAAAAAAAAAAAAAAAAAAAAAAAAAAAAAAAAAAAAAAAAAAAAAAAAAAAAAAAAAAAAAAAAAAAAAAAAAAAAAAAAAAAAAAAAAAAAAAAAAAAAAAAAAAAAAAAAAAAAAAAAAAAAAAAAAAAAAAAAAAAAAAAAAAAAAAAAAAAAAAAAAAAAAAAAAAAAAAAAAAAAAAAAAAAAAAAAAAAAAAAAAAAAAAAAAAAAAAAAAAAAAAAAAAAAAAAAAAAAAAAAAAAAAAAAAAAAAAAAAAAAAAAAAAAAAAAAAAAAAAAAAAAAAAAAAAAAAAAAAAAAAAAAAAAAAAAAAAAAAAAAAAAAAAAAAAAAAAAAAAAAAAAAAAAAAAAAAAAAAAAAAAAAAAAAAAAAAAAAAAAAAAAAAAAAAAAAAAAAAAAAAAAAAAAAAAAAAAAAAAAAAAAAAAAAAAAAAAAAAAAAAAAAAAAAAAAAAAAAAAAAAAAAAAAAAAAAAAAAAAAAAAAAAAAAAAAAAAAAAAAAAAAAAAAAAAAAAAAAAAAAAAAAAAAAAAAAAAAAAAAAAAAAAAAAAAAAAAAAAAAAAAAAAAAAAAAAAAAAAAAAAAAAAAAAAAAAAAyMDIxOjEyOjE0IDIwOjA5OjAzADIwMjE6MTI6MTQgMjA6MDk6MDMAAABQAGUAZAByAG8AIABGAGwAZQB1AHIAeQAAAP/hCx9odHRwOi8vbnMuYWRvYmUuY29tL3hhcC8xLjAvADw/eHBhY2tldCBiZWdpbj0n77u/JyBpZD0nVzVNME1wQ2VoaUh6cmVTek5UY3prYzlkJz8+DQo8eDp4bXBtZXRhIHhtbG5zOng9ImFkb2JlOm5zOm1ldGEvIj48cmRmOlJERiB4bWxuczpyZGY9Imh0dHA6Ly93d3cudzMub3JnLzE5OTkvMDIvMjItcmRmLXN5bnRheC1ucyMiPjxyZGY6RGVzY3JpcHRpb24gcmRmOmFib3V0PSJ1dWlkOmZhZjViZGQ1LWJhM2QtMTFkYS1hZDMxLWQzM2Q3NTE4MmYxYiIgeG1sbnM6ZGM9Imh0dHA6Ly9wdXJsLm9yZy9kYy9lbGVtZW50cy8xLjEvIi8+PHJkZjpEZXNjcmlwdGlvbiByZGY6YWJvdXQ9InV1aWQ6ZmFmNWJkZDUtYmEzZC0xMWRhLWFkMzEtZDMzZDc1MTgyZjFiIiB4bWxuczp4bXA9Imh0dHA6Ly9ucy5hZG9iZS5jb20veGFwLzEuMC8iPjx4bXA6Q3JlYXRlRGF0ZT4yMDIxLTEyLTE0VDIwOjA5OjAzLjE0MjwveG1wOkNyZWF0ZURhdGU+PC9yZGY6RGVzY3JpcHRpb24+PHJkZjpEZXNjcmlwdGlvbiByZGY6YWJvdXQ9InV1aWQ6ZmFmNWJkZDUtYmEzZC0xMWRhLWFkMzEtZDMzZDc1MTgyZjFiIiB4bWxuczpkYz0iaHR0cDovL3B1cmwub3JnL2RjL2VsZW1lbnRzLzEuMS8iPjxkYzpjcmVhdG9yPjxyZGY6U2VxIHhtbG5zOnJkZj0iaHR0cDovL3d3dy53My5vcmcvMTk5OS8wMi8yMi1yZGYtc3ludGF4LW5zIyI+PHJkZjpsaT5QZWRybyBGbGV1cnk8L3JkZjpsaT48L3JkZjpTZXE+DQoJCQk8L2RjOmNyZWF0b3I+PC9yZGY6RGVzY3JpcHRpb24+PC9yZGY6UkRGPjwveDp4bXBtZXRhPg0KICAgICAgICAgICAgICAgICAgICAgICAgICAgICAgICAgICAgICAgICAgICAgICAgICAgICAgICAgICAgICAgICAgICAgICAgICAgICAgICAgICAgICAgICAgICAgICAgICAgIAogICAgICAgICAgICAgICAgICAgICAgICAgICAgICAgICAgICAgICAgICAgICAgICAgICAgICAgICAgICAgICAgICAgICAgICAgICAgICAgICAgICAgICAgICAgICAgICAgICAgCiAgICAgICAgICAgICAgICAgICAgICAgICAgICAgICAgICAgICAgICAgICAgICAgICAgICAgICAgICAgICAgICAgICAgICAgICAgICAgICAgICAgICAgICAgICAgICAgICAgICAKICAgICAgICAgICAgICAgICAgICAgICAgICAgICAgICAgICAgICAgICAgICAgICAgICAgICAgICAgICAgICAgICAgICAgICAgICAgICAgICAgICAgICAgICAgICAgICAgICAgIAogICAgICAgICAgICAgICAgICAgICAgICAgICAgICAgICAgICAgICAgICAgICAgICAgICAgICAgICAgICAgICAgICAgICAgICAgICAgICAgICAgICAgICAgICAgICAgICAgICAgCiAgICAgICAgICAgICAgICAgICAgICAgICAgICAgICAgICAgICAgICAgICAgICAgICAgICAgICAgICAgICAgICAgICAgICAgICAgICAgICAgICAgICAgICAgICAgICAgICAgICAKICAgICAgICAgICAgICAgICAgICAgICAgICAgICAgICAgICAgICAgICAgICAgICAgICAgICAgICAgICAgICAgICAgICAgICAgICAgICAgICAgICAgICAgICAgICAgICAgICAgIAogICAgICAgICAgICAgICAgICAgICAgICAgICAgICAgICAgICAgICAgICAgICAgICAgICAgICAgICAgICAgICAgICAgICAgICAgICAgICAgICAgICAgICAgICAgICAgICAgICAgCiAgICAgICAgICAgICAgICAgICAgICAgICAgICAgICAgICAgICAgICAgICAgICAgICAgICAgICAgICAgICAgICAgICAgICAgICAgICAgICAgICAgICAgICAgICAgICAgICAgICAKICAgICAgICAgICAgICAgICAgICAgICAgICAgICAgICAgICAgICAgICAgICAgICAgICAgICAgICAgICAgICAgICAgICAgICAgICAgICAgICAgICAgICAgICAgICAgICAgICAgIAogICAgICAgICAgICAgICAgICAgICAgICAgICAgICAgICAgICAgICAgICAgICAgICAgICAgICAgICAgICAgICAgICAgICAgICAgICAgICAgICAgICAgICAgICAgICAgICAgICAgCiAgICAgICAgICAgICAgICAgICAgICAgICAgICAgICAgICAgICAgICAgICAgICAgICAgICAgICAgICAgICAgICAgICAgICAgICAgICAgICAgICAgICAgICAgICAgICAgICAgICAKICAgICAgICAgICAgICAgICAgICAgICAgICAgICAgICAgICAgICAgICAgICAgICAgICAgICAgICAgICAgICAgICAgICAgICAgICAgICAgICAgICAgICAgICAgICAgICAgICAgIAogICAgICAgICAgICAgICAgICAgICAgICAgICAgICAgICAgICAgICAgICAgICAgICAgICAgICAgICAgICAgICAgICAgICAgICAgICAgICAgICAgICAgICAgICAgICAgICAgICAgCiAgICAgICAgICAgICAgICAgICAgICAgICAgICAgICAgICAgICAgICAgICAgICAgICAgICAgICAgICAgICAgICAgICAgICAgICAgICAgICAgICAgICAgICAgICAgICAgICAgICAKICAgICAgICAgICAgICAgICAgICAgICAgICAgICAgICAgICAgICAgICAgICAgICAgICAgICAgICAgICAgICAgICAgICAgICAgICAgICAgICAgICAgICAgICAgICAgICAgICAgIAogICAgICAgICAgICAgICAgICAgICAgICAgICAgICAgICAgICAgICAgICAgICAgICAgICAgICAgICAgICAgICAgICAgICAgICAgICAgICAgICAgICAgICAgICAgICAgICAgICAgCiAgICAgICAgICAgICAgICAgICAgICAgICAgICAgICAgICAgICAgICAgICAgICAgICAgICAgICAgICAgICAgICAgICAgICAgICAgICAgICAgICAgICAgICAgICAgICAgICAgICAKICAgICAgICAgICAgICAgICAgICAgICAgICAgICAgICAgICAgICAgICAgICAgICAgICAgICAgICAgICAgICAgICAgICAgICAgICAgICAgICAgICAgICAgICAgICAgICAgICAgIAogICAgICAgICAgICAgICAgICAgICAgICAgICAgICAgICAgICAgICAgICAgICAgICAgICAgICAgICAgICAgICAgICAgICAgICAgICAgICAgICAgICAgICAgICAgICAgICAgICAgCiAgICAgICAgICAgICAgICAgICAgICAgICAgICA8P3hwYWNrZXQgZW5kPSd3Jz8+/9sAQwAHBQUGBQQHBgUGCAcHCAoRCwoJCQoVDxAMERgVGhkYFRgXGx4nIRsdJR0XGCIuIiUoKSssKxogLzMvKjInKisq/9sAQwEHCAgKCQoUCwsUKhwYHCoqKioqKioqKioqKioqKioqKioqKioqKioqKioqKioqKioqKioqKioqKioqKioqKioq/8AAEQgB+AKOAwEiAAIRAQMRAf/EAB8AAAEFAQEBAQEBAAAAAAAAAAABAgMEBQYHCAkKC//EALUQAAIBAwMCBAMFBQQEAAABfQECAwAEEQUSITFBBhNRYQcicRQygZGhCCNCscEVUtHwJDNicoIJChYXGBkaJSYnKCkqNDU2Nzg5OkNERUZHSElKU1RVVldYWVpjZGVmZ2hpanN0dXZ3eHl6g4SFhoeIiYqSk5SVlpeYmZqio6Slpqeoqaqys7S1tre4ubrCw8TFxsfIycrS09TV1tfY2drh4uPk5ebn6Onq8fLz9PX29/j5+v/EAB8BAAMBAQEBAQEBAQEAAAAAAAABAgMEBQYHCAkKC//EALURAAIBAgQEAwQHBQQEAAECdwABAgMRBAUhMQYSQVEHYXETIjKBCBRCkaGxwQkjM1LwFWJy0QoWJDThJfEXGBkaJicoKSo1Njc4OTpDREVGR0hJSlNUVVZXWFlaY2RlZmdoaWpzdHV2d3h5eoKDhIWGh4iJipKTlJWWl5iZmqKjpKWmp6ipqrKztLW2t7i5usLDxMXGx8jJytLT1NXW19jZ2uLj5OXm5+jp6vLz9PX29/j5+v/aAAwDAQACEQMRAD8A+kaKKKACiiigAooooAKKKKACiiigAooooAKKKKACiiigAooooAKKKKACiiigAooooAKKKKACiiigAooooAKKKKACiiigAooooAKKKKACiiigAooooAKKKKACiiigAooooAKKKKACiiigAooooAKKKKACiiigAooooAKKKKACiiigAooooAKKKKACiiigAooooAKKKKACiiigAooooAKKKKACiiigAooooAKKKKACiiigAooooAKKKKACiiigAooooAKKKKACiiigAooooAKKKKACiiigAooooAKKKKACiiigAooooAKKKKACiiigAooooAKKKKACiiigAooooAKKKKACiiigAooooAKKKKACiiigAooooAKKKKACiiigAooooAKKKKACiiigAooooAKKKKACiiigAooooAKKKKACiiigAooooAKKKKACiiigAooooAKKKKACiiigAooooAKKKKACiiigAooooAKKKKACiiigAooooAKKKKAKOt3j6doGoXsTxxvbWskqvLt2KVUkFtzouOOcug9WXqPlqL9oPx5H5e67s5dm3dvtF+fHl5zjH3vLfOMf66TGMR7PqHxHL5PhXVZfM8rZZTN5nmeXswh53eZHtx6+YmP7y9R8IV6OBpwqc3Mr7HLiJyjazPTov2g/Hkfl7ruzl2bd2+0X58eXnOMfe8t84x/rpMYxHsIv2g/Hkfl7ruzl2bd2+0X58eXnOMfe8t84x/rpMYxHs8xor0fq1H+U5vaz7np0X7QfjyPy913Zy7Nu7faL8+PLznGPveW+cY/10mMYj2EX7QfjyPy913Zy7Nu7faL8+PLznGPveW+cY/10mMYj2eY0UfVqP8oe1n3PTov2g/Hkfl7ruzl2bd2+0X58eXnOMfe8t84x/rpMYxHsIv2g/Hkfl7ruzl2bd2+0X58eXnOMfe8t84x/rpMYxHs8xoo+rUf5Q9rPuenRftB+PI/L3XdnLs27t9ovz48vOcY+95b5xj/XSYxiPYRftB+PI/L3XdnLs27t9ovz48vOcY+95b5xj/XSYxiPZ5jRR9Wo/wAoe1n3PTov2g/Hkfl7ruzl2bd2+0X58eXnOMfe8t84x/rpMYxHsIv2g/Hkfl7ruzl2bd2+0X58eXnOMfe8t84x/rpMYxHs8xoo+rUf5Q9rPuenRftB+PI/L3XdnLs27t9ovz48vOcY+95b5xj/AF0mMYj2EX7QfjyPy913Zy7Nu7faL8+PLznGPveW+cY/10mMYj2eY0UfVqP8oe1n3PTov2g/Hkfl7ruzl2bd2+0X58eXnOMfe8t84x/rpMYxHsIv2g/Hkfl7ruzl2bd2+0X58eXnOMfe8t84x/rpMYxHs8xoo+rUf5Q9rPuenRftB+PI/L3XdnLs27t9ovz48vOcY+95b5xj/XSYxiPYRftB+PI/L3XdnLs27t9ovz48vOcY+95b5xj/AF0mMYj2eY0UfVqP8oe1n3PTov2g/Hkfl7ruzl2bd2+0X58eXnOMfe8t84x/rpMYxHsIv2g/Hkfl7ruzl2bd2+0X58eXnOMfe8t84x/rpMYxHs8xoo+rUf5Q9rPuenRftB+PI/L3XdnLs27t9ovz48vOcY+95b5xj/XSYxiPYRftB+PI/L3XdnLs27t9ovz48vOcY+95b5xj/XSYxiPZ5jRR9Wo/yh7Wfc9Oi/aD8eR+Xuu7OXZt3b7Rfnx5ec4x97y3zjH+ukxjEewi/aD8eR+Xuu7OXZt3b7Rfnx5ec4x97y3zjH+ukxjEezzGij6tR/lD2s+56dF+0H48j8vdd2cuzbu32i/Pjy85xj73lvnGP9dJjGI9hF+0H48j8vdd2cuzbu32i/Pjy85xj73lvnGP9dJjGI9nmNFH1aj/ACh7Wfc9Oi/aD8eR+Xuu7OXZt3b7Rfnx5ec4x97y3zjH+ukxjEey/ovx08b3k5S51G0/cxK4BtYgZyGhBU5ZTyEcnYGP72TCqArReRVt+GJfLuL1fM2eZa7dvmbd/wC8Q4x5i7umcbZOmdox5icmOo06eGqTirNJnpZT++zChTqaxc4prum0eqRfGTxlH5e6/hl2bd2+2T58eXnOAPveW+cY/wBdJjGI9hF8ZPGUfl7r+GXZt3b7ZPnx5ec4A+95b5xj/XSYxiPZwtFfAfW6/wDMz93/ALAyv/nwjuovjJ4yj8vdfwy7Nu7fbJ8+PLznAH3vLfOMf66TGMR7CL4yeMo/L3X8Muzbu32yfPjy85wB97y3zjH+ukxjEezhaKPrdf8AmYf2Blf/AD4R3UXxk8ZR+Xuv4Zdm3dvtk+fHl5zgD73lvnGP9dJjGI9hF8ZPGUfl7r+GXZt3b7ZPnx5ec4A+95b5xj/XSYxiPZwtFH1uv/Mw/sDK/wDnwjuovjJ4yj8vdfwy7Nu7fbJ8+PLznAH3vLfOMf66TGMR7CL4yeMo/L3X8Muzbu32yfPjy85wB97y3zjH+ukxjEezhaKPrdf+Zh/YGV/8+Ed1F8ZPGUfl7r+GXZt3b7ZPnx5ec4A+95b5xj/XSYxiPYRfGTxlH5e6/hl2bd2+2T58eXnOAPveW+cY/wBdJjGI9nC0UfW6/wDMw/sDK/8AnwjuovjJ4yj8vdfwy7Nu7fbJ8+PLznAH3vLfOMf66TGMR7CL4yeMo/L3X8Muzbu32yfPjy85wB97y3zjH+ukxjEezhaKPrdf+Zh/YGV/8+Ed1F8ZPGUfl7r+GXZt3b7ZPnx5ec4A+95b5xj/AF0mMYj2EXxk8ZR+Xuv4Zdm3dvtk+fHl5zgD73lvnGP9dJjGI9nC0UfW6/8AMw/sDK/+fCO6i+MnjKPy91/DLs27t9snz48vOcAfe8t84x/rpMYxHsIvjJ4yj8vdfwy7Nu7fbJ8+PLznAH3vLfOMf66TGMR7OFoo+t1/5mH9gZX/AM+Ed1F8ZPGUfl7r+GXZt3b7ZPnx5ec4A+95b5xj/XSYxiPYRfGTxlH5e6/hl2bd2+2T58eXnOAPveW+cY/10mMYj2cLRR9br/zMP7Ayv/nwjuovjJ4yj8vdfwy7Nu7fbJ8+PLznAH3vLfOMf66TGMR7CL4yeMo/L3X8Muzbu32yfPjy85wB97y3zjH+ukxjEezhaKPrdf8AmYf2Blf/AD4R3UXxk8ZR+Xuv4Zdm3dvtk+fHl5zgD73lvnGP9dJjGI9hF8ZPGUfl7r+GXZt3b7ZPnx5ec4A+95b5xj/XSYxiPZwtFH1uv/Mw/sDK/wDnwjuovjJ4yj8vdfwy7Nu7fbJ8+PLznAH3vLfOMf66TGMR7CL4yeMo/L3X8Muzbu32yfPjy85wB97y3zjH+ukxjEezhaKPrdf+Zh/YGV/8+Ed1F8ZPGUfl7r+GXZt3b7ZPnx5ec4A+95b5xj/XSYxiPYRfGTxlH5e6/hl2bd2+2T58eXnOAPveW+cY/wBdJjGI9nC0UfW6/wDMw/sDK/8Anwj6F+EPi/V/Fdnqf9uXkdzJatCE2xxoygptJO1s/MULcooyW2sR8kfo9eQfACXOna3F5mdssTeX5mduQ3O3zDjOOvlrnH3nxiP1+vocNJyoxk9z8fzqjToZhVpUlaKeiCiiitzyQooooAKKKKACiiigAooooAKKKKACiiigAooooAKKKKACiiigAooooAKKKKACiiigDN8Ry+T4V1WXzPK2WUzeZ5nl7MIed3mR7cevmJj+8vUfCFfd/iOXyfCuqy+Z5WyymbzPM8vZhDzu8yPbj18xMf3l6j4Qr1cu+18v1OPFdAooor1TjCiiigAooooAKKKKACiiigAooooAKKKKACiiigAooooAKKKKACiiigAooooAK2/DEvl3F6vmbPMtdu3zNu/94hxjzF3dM42ydM7RjzExK2/DEvl3F6vmbPMtdu3zNu/94hxjzF3dM42ydM7RjzE4cx/3Op6M9fJP+Rphv8cf/SkbVFFFfmR/SQUUUUAFFFFABRRRQAUUUUAFFFFABRRRQAUUUUAFFFFABRRRQAUUUUAFFFFABRRRQB7b8AJc6drcXmZ2yxN5fmZ25Dc7fMOM46+WucfefGI/X68g+AEudO1uLzM7ZYm8vzM7chudvmHGcdfLXOPvPjEfr9fUYX+BH0PwnP8A/kaV/UKKKK6TxAooooAKKKKACiiigAooooAKKKKACiiigAooooAKKKKACiiigAooooAKKKKACiiigDN8Ry+T4V1WXzPK2WUzeZ5nl7MIed3mR7cevmJj+8vUfCFfd/iOXyfCuqy+Z5WyymbzPM8vZhDzu8yPbj18xMf3l6j4Qr1cu+18v1OPFdAooor1TjCiiigAooooAKKKKACiiigAooooAKKKKACiiigAooooAKKKKACiiigAooooAK2/DEvl3F6vmbPMtdu3zNu/94hxjzF3dM42ydM7RjzExK2/DEvl3F6vmbPMtdu3zNu/94hxjzF3dM42ydM7RjzE4cx/3Op6M9fJP+Rphv8AHH/0pG1RRRX5kf0kFFFFABRRRQAUUUUAFFFFABRRRQAUUUUAFFFFABRRRQAUUUUAFFFFABRRRQAUUUUAe2/ACXOna3F5mdssTeX5mduQ3O3zDjOOvlrnH3nxiP1+vIPgBLnTtbi8zO2WJvL8zO3Ibnb5hxnHXy1zj7z4xH6/X1GF/gR9D8Jz/wD5Glf1Ciiiuk8QKKKKACiiigAooooAKKKKACiiigAooooAKKKKACiiigAooooAKKKKACiiigAooooAzfEcvk+FdVl8zytllM3meZ5ezCHnd5ke3Hr5iY/vL1HwhX3f4jl8nwrqsvmeVsspm8zzPL2YQ87vMj249fMTH95eo+EK9XLvtfL9TjxXQKKKK9U4wooooAKKKKACiiigAooooAKKKKACiiigAooooAKKKKACiiigAooooAKKKKACtvwxL5dxer5mzzLXbt8zbv8A3iHGPMXd0zjbJ0ztGPMTErb8MS+XcXq+Zs8y127fM27/AN4hxjzF3dM42ydM7RjzE4cx/wBzqejPXyT/AJGmG/xx/wDSkbVFFFfmR/SQUUUUAFFFFABRRRQAUUUUAFFFFABRRRQAUUUUAFFFFABRRRQAUUUUAFFFFABRRRQB7b8AJc6drcXmZ2yxN5fmZ25Dc7fMOM46+WucfefGI/X68g+AEudO1uLzM7ZYm8vzM7chudvmHGcdfLXOPvPjEfr9fUYX+BH0PwnP/wDkaV/UKKKK6TxAooooAKKKKACiiigAooooAKKKKACiiigAooooAKKKKACiiigAooooAKKKKACiiigDN8Ry+T4V1WXzPK2WUzeZ5nl7MIed3mR7cevmJj+8vUfCFfd/iOXyfCuqy+Z5WyymbzPM8vZhDzu8yPbj18xMf3l6j4Qr1cu+18v1OPFdAooor1TjCiiigAooooAKKKKACiiigAooooAKKKKACiiigAooooAKKKKACiiigAooooAK2/DEvl3F6vmbPMtdu3zNu/8AeIcY8xd3TONsnTO0Y8xMStvwxL5dxer5mzzLXbt8zbv/AHiHGPMXd0zjbJ0ztGPMThzH/c6noz18k/5GmG/xx/8ASkbVFFFfmR/SQUUUUAFFFFABRRRQAUUUUAFFFFABRRRQAUUUUAFFFFABRRRQAUUUUAFFFFABRRRQB7b8AJc6drcXmZ2yxN5fmZ25Dc7fMOM46+WucfefGI/X68g+AEudO1uLzM7ZYm8vzM7chudvmHGcdfLXOPvPjEfr9fUYX+BH0PwnP/8AkaV/UKKKK6TxAooooAKKKKACiiigAooooAKKKKACiiigAooooAKKKKACiiigAooooAKKKKACiiud0fxfaal4i1HQ59sF9ZzMqKTxOg5yvuM8j8fpSi5JtdBNpbmh4jl8nwrqsvmeVsspm8zzPL2YQ87vMj249fMTH95eo+EK+7/Ecvk+FdVl8zytllM3meZ5ezCHnd5ke3Hr5iY/vL1HwhXp5d9r5fqcmK6BRRRXqnGFFFFAGhpvh/WdZjlk0fSb6/SHHmta2zyiPPTcVBx0PWs+u++GyltB8cKoJJ0FwAB1/eJTfBHg2Waaa/1/SIJdM/s2W7R7qWUBFWQIZNkJ8xiGyNmVz1yBzWUqii3fZf8AB/yLUW0rd7fl/mcrpegajrVrf3GmwxzJp0BuLkGdEZIx1YKzAsB32g4yPUVm17pZ+HdL0HxbqyaRpFxNZ33gxrtrBDIjSMzJuVdxZ1zjpliMnmq2m/D3w3rI0/Vv7L/sxptFnvm0aWeZoy6SCNHJG6by2DbsLzxwetZfWEndrT/h/wDIv2Tt5/8ADf5nk2keH9R11bw6XDHN9it2uZ1M8aMI1GWYBmBbAHO3Jqtaade6h5v2CzuLryVDyeTEz7FyBk4HAyQPqa9b0/RtJ0jxTqJ0TCR3XhG8lmijScRJLsKt5ZmUOyHbkZyeozXmegeJr/w4t+NO8v8A063FvKXByF3q/GCOcqB34JrSNRzbt2/Vr9CZQ5Yp+f6J/qOt/Bnii7837L4b1efyZDFJ5dhK2xx1U4XgjPSmP4S8RxXBgk8P6okwZEMbWUgYM+doxjOTg49cGvRNE1xNd8A+ONZ8QW91M15qdrLLFpswhcMS/CllfAHoQeO9Zep+Ndb8I65nTLaaHT7t7XULCHU5WmkWCLcIkJEhwvLfLnPA6VHtKnM4210/JN/m/uHyx5eZef5tL8l955yysjlHUqynBBGCDSV1HgfTD4n8eQQ3dlFqCSmWe4hmmeJWARmJLRgvx1woyenevTtF8OeHtP8AHPgXUNK0qN49VS63Bo7iOMSRElJESSRmB443MQeDgHpU6yp6Na2/Rv8ARiUOa7jsv6/U8JroB4G8QGze6FlH5SaeNSObqIN9mOf3gXduI45AGRxkciutW30C08EXuu6x4KgW4h1mO2+yi6uYf3TxF+Szk+4PuCcjiuh0DSdLsZ2n03Qyyaj4HkurmxtppD57mYAgFizDIUdPwqZ17RbS/q1+5ape9Z/171jxGpIIJrq4jt7aJ5ppXCRxxqWZ2JwAAOSSe1eyWfg3w3qFlDdJ4b+x3OpeHby9jsGuJna3mhO2N4wWyQ4OcMG+6Md6j0Twzptl4w+Hsc+imxn1WzdrtEuLiJw4ZtsikSBlbAB4OOTx0w3iIrp/Wv8A8iyHTdr/ANdP/kkeWaZoGpavrqaNZW4/tF5DEtvPIsJ3jquXIAbIxjrniqd1bS2d5Na3KbJoJGjkXIO1gcEZHHUV7P4D8PadpN34Kv4fDs+r3eq3sksmoJNKBZeXLtAAX5eANzbsnr04xjT6JpdrpepeIbnw+/iO6ufEc9ibfzpUS3UHd/yyIYu27Azxx0Pc9t79v6ve3f8AMp0rX/ro3+h5ZRXR+P8AQrPw1481TSNNkZ7W2lAj3tllBUNtJ7kE4/CucraElOKkupnKPK2mFFFFUSFbfhiXy7i9XzNnmWu3b5m3f+8Q4x5i7umcbZOmdox5iYlbfhiXy7i9XzNnmWu3b5m3f+8Q4x5i7umcbZOmdox5icOY/wC51PRnr5J/yNMN/jj/AOlI2qKKK/Mj+kgooooAKu2Oi6pqcMkum6beXccX+se3gaQJ35IHFUq7PwOpbw34vVQSTpoAAHX5xWlOKk2n2b+5XOTGV5UKPtI73S+9pfqcZV6w0a+1O1vbixiSSOxi864zKisqf3gpILD6A4yPUV0fhTws7tPe65pkUlh9ha4V7iSQBAJNm/ZEd7HIYbSVz1yOK6y30XTtG8RazHpumzTWtx4YFybMF1ZyzpuUZLMo46ZJHPNbQw7avLz/ACf+R52LzenSlKnTV5LrpbdXV7rXXrt1PIqvado19q0V3JYRJKLOBricGVFZY1GSwDEFsY7Z7etekWngnQtRW21MWH2F5NJe8OlSzSsm8SbFclcy7CDuwOenI5qC30vTtL1rWBpPyx3HhW5lkjVZdiSYwwQyAMUyuQTnuO1H1aUfi8/1/wAjOWdU5qUaUXzLutNHqtH+Wnmzze1sLy9EhsrWe4EYBfyoy+3JwM46ZJAq1/wjmt+TLN/Y+oeVC5jkf7K+1GBwVJxwQeMVJoniK90BbsWIj/0tFSQuDwFcOMYI7rj6E11cWr3Oo/DzxJq8+0XM2swXDBQQoYknA5zgfWohCElq+mv3nbisRiaMtIrlbil31aX6v7jibvTL+wUNf2NzbKzsgM0LJll+8vI6juO1Va3PEHi7UvEsSR6gIVVbmW5AiUj5pMZHJPA28fU9a7Pwr4Q0i/0fTIdX0yMXV/azzRyxPO8jhdxVyQRHHjAGMOTx0zSjS9o3yPYmtj3g8OquKjq76R17u+tui1PMKt2Gl3mqC5NjD5v2WBrib51XZGuMtyRnqOBzXfpBZ3PhPwTG/h+3nguLiRLiXdN8uZkjZiVcctx16EADA4qE6f4eu9b8T6XDoEUB0q0v5I7j7VKzM0RwhxuwMc8YIPHpzp7Cz1ff8r9jF5smnaDTTfZpWly/zJ/11OJ1bRr7RLqO31KJI5JIlmTZKkisjfdYMhIIP1qjXr11pOm61c6VYalos3zeG4phq3nOog2Q5Bx93bkYOc8t2qpF4U0u41C1ki0JBZXHhk30jo8xSKfDnIYue+Bgk9qqphZRk7PRX/Xy8jCnnlNQXtovmtd2tbrt73k9Hr+B5ibS4FmLs28otjIYhNsOwuBnbu6Zwc4q1c6Hf2mjW2qzRILK6cpFKsyNlh1BAJKn2IFd3onh3Ttd0zwgtzBJskS/klt47iT/AEgxbSFUFjtLY52AZ59sXZ9Ltdb8LeFdOl02TQba81iSNod7McEAZUyc89Oc8/lQsM2vN2t82l+pVTOVGoo26vm8kudaa3v7nZqx5RRXda1oumS+GtavIdDfRZtKvo7eImWRvtIYsCrbyRuXaGyuOvSuFrllFxdj1sLio4mLlFNWdtbdk+ja2a6hRRRUnUFFFFAHtvwAlzp2txeZnbLE3l+ZnbkNzt8w4zjr5a5x958Yj9fryD4AS507W4vMztliby/MztyG52+YcZx18tc4+8+MR+v19Rhf4EfQ/Cc//wCRpX9QooorpPECiiigArk/ii80Hwt8Q3Nrc3NrcW1jJNDNa3DwujqMghkIPUdOh6GusrK8T6BD4p8N3uiXV1c2lvexmKaS12Byh6qC6sBkcZxn0xUzTcWkVFpSTZV0mdtL+HltdIZLqSDThP8A6XeEtI3l7zumkJxk/wATHAHsK891L4gw+N/CHizQ9R0izVovD0uoRvb3Ru4GADAYZokBZXAIZdy5GQ3FdS3wtsbqMRaxr2tarAlhNp8cNy8CrHFKqq2PLiQ5wi4JJ6UkfwrsBNNLc69rd3JPpT6RM880J8y3YEAYEQAK5yCMc9d1VU99y87/AK/8D+t5pvkUe6t+n/BMXRPiPN4Y0PSbPxZoM2m2f9hm6tLmO4WdplgiUurIANjbcEDLDnkg02H4k6b450fWdDvLTTWkm0SW+jjttQjvk2AYKS4UBJVJU7fmHoxxXQW/wr0NXI1K61LVoEsH062t7+4DpawOMOseFDZIwNzFmwAM1Lp/w7h0/SrqwXxHrs8U9q1ojTzxOYIzjO0eXhjgY3OGIHQ0VffUvNP9f+B+IU/c5fK36f8ABKeg6y3h79n3TtYjjEr2Hh2O4RCDhmWAEA47ZFVdE8H6jrXhfSNak8X60ms3QgvprhbuQ27BtrtELcMIwhUlRxkdeTXZaHoFtofhe00FZZb20tbcWym7CMzxgYCttVVPy8dOR1zXMWPwn03TpYorLX/EcWlwyCSLSBqJ+yoAchMbd+zP8O7FXKSdSUu7/V/8D7iUmoJf10/r5le7+KU9vDeavHoBfw1Y6h9guNRa8CzbhII2dYNvzIHIGS4J5OKdb/EHxDd/221r4VtJItFup7a5lOrbVzHEJAR+6yQcgHjgkdRki5J8LdHkurkG/wBUXS7u9+3z6OJ1+yyTbg5bG3eAWAYqH257VdsfAtvYWPiG2i1jUnGvzPPcO/kbonddrGPEQA+UAfMG6DvnOWvL52/HT/g/gXpzeV/w1/4Bzs3xZuLDwtp2taxoUFhFrAthpjTamixyNKhdvNcr+5VAuSfmyCMDOQKV98VdS1TQLC68K2unyXJ1+PSbvF+JIS2Qw8qVYyGR1ON+0Fcn5c9OquPhzpl14O0nw9Nfajt0do2sb9JES5hKAqpBVAp+UlcFSCOuTzSXvw8tNQ8PRaXd61rDyQ3sd/Hf+ennpKn3SPk2AcdAmOvfmtHbm02uvuuv+CSr8vnb8bP/AIBn6p8RdStJtZ/s7w2t9B4eiR9WmN+ItjGMSOkIKfvSqHOW2A9K7bTr6DVNMtb+0YtBdQpNESMEqwBH6GuSvfhfpl3c3siavrNrFqcMcOpQQXS7L4IuzMhZCwYqMMUKkjrXYW1tDZ2kNtaxiOGFFjjReiqBgD8hS6f18/8AgfiHX+vl+t/wOH8TfEeXw/4guNNT/hF8Qhf+Qh4nS0m5UH5ojExXrxzyMHvXSaBq0niPwvHfBrJHuFdQ2nXwuoQQSuVlCru6enByO1aMthZzyGSa1gkc9WeMEn8aliijgjEcMaxoOiouAPwqbXjZlX1TR5HrPhzxV4a+GviG81jxPe3Mtv4eiWKSDUJw6XUXmM8ob5TzlBnOWwdwpujaLrGu6dcxaafGGiXraGfIu9T1uSW3nnlXAYASS7dpAYEFWG77vSvTPE+gQ+KfDd7ol1dXNpb3sZimktdgcoeqgurAZHGcZ9MVkaX4BXT9Y0zULnxFrOpHSo3jtILs24jQMmw8RwoTx6mnu3fr/wAG/wCf4CelrdP+B/kWvCmi6vo82rHWdUk1BLm5SS1Dys/lRiFFI5A25dXOBxznqTXhkPirxE8EbNr2pZZQT/pb+n1r6VrxWP4NeII4lQX2mnaAM75Of/HK9TA1KMXL2tuhx4iE2lyeZy//AAlHiD/oPan/AOBb/wCNUftd19u+2m6mN35nm/aDIS+/+9u65ruP+FO+If8An90z/vuT/wCIrmrbwpql54qm8P2yxy3UEhSWRCfLjUYy5JGcc/U9BXrwrYV35beZwyp1la9z0nQ/Hg8ReC9Ygvn+z6nZ6fLJJKreWrqEP7wN5kew56/vEx1DKOR8hV9rJ4dsfCHgHVIbJ9kgspZJ7tn8tnYRn5i3mR7QO37xNv8AfXlq+Ka87CODqTdNWWn6nXWUlGPNuFFFaOn+H9Z1a2luNK0i+vYIf9bLbWzyKnGeSoIHHPNeg2krs5jOorRj8P6zNpDarDpF/JpyZLXi2zmFcHBy+MdferQ8FeKTt2+G9WO4KwxYyHhiQv8AD3wcetLmj3HZlXS/EOtaGsi6Lq9/pyykGQWly8QcjpnaRnqasN4w8TPfpfP4i1ZruNDGlwb6QyKhOSobdkA+lRy+F9fgu7e1m0TUUnuWZIIjavumZThggx82O+M4q5pHgTxHrWp3un2uk3SXVhA01xFLA6tGApIUrjO5sYUY5P51DcPidhpS2RTbxT4gZ43bXdSLRKUjY3kmUUsGIHPA3Kpx6gHtTH8R63Jq66q+sag2oqMLeG6czAYxgPnPT3qVPCfiOSzlu49A1RraEuJJlspCiFCQwLYwMEEH0xSweEfElzaw3NtoGqTQzxmSKSOzkZXQYywIHK8jnpzTvBdg95iJ4t8SRXs15H4g1RLqdQks63sgeRR0DNnJAz0NZBOTk9avXmiarp1nBd6hpl5a21zzBNPbuiS8Z+ViMHj0qaXwvr9vdWttPoepRXF5zbRPaSBp+/yAjLfhTXKtgfM9xdN8U+INHtfs2ka7qVhb7i/lWt5JEm49ThSBngVV1LVtR1m6Fzq9/dX9wFCCW6maVgo6DLEnHJ4qxP4a121jhe60XUYUnl8iJpLR1EkmcbFyOWyCMDmruteBfEeha3BpN5pV095corQJDA7ecSoYqnHzFc4OM4INK8L36haVjGs726068ju9PuZrW5iOY5oJCjofUMORV+XxX4imkiebXtUkeGbz42e8kJSTGN4OeGwTz1qhe2N3pt49pqNrNaXMZw8M8ZR1+qnkVozeEPEltDLNceH9UiihjEsrvZSBY0OcMxxwODyfSm+Xdh72yI7nxPr17ZzWl5repXFtcP5k0Mt3IySNwdzKTgngcn0FPk8W+I5WiaXxBqjtCmyMteyEouVOBzwMqpx6qPQVWtdE1W+0+e+sdMvLmzt/9dcQ27vHFxn5mAwOOea29V8N2cXgfw1q2lpePe6rNPBLC7iQM8ZQDYFQEZLdCW7c1L5E0rDXMzIfxHrcmrrqr6xqDaio2reG6czAYxgPnPT3qZPGHiWOVZI/EOqpIhYq63sgKljliDu7nr61V1TRNV0SVI9Z0y80+SQbkS7t3iLD1AYDNWoPCPiS5tYbm20DVJoZ4zJFJHZyMroMZYEDleRz05p+5a+lhe9ewyDxT4gtllW213UoRNN58gjvJF3yZzvODy2RnPWi38U+ILS6ubm013U4Li7ObiWK8kV5j6uQct+NQXmiarp1nBd6hpl5a21zzBNPbuiS8Z+ViMHj0p+o+H9Z0iCKbVtIv7GKbiKS5tnjWTjPylgM8elFoB7xQd3lkaSRmd2JLMxyST3JptdufAjWnw11XW9a07VtN1OyuIEhW5Xy4po5CRkIyBuMHkNjnpxzzMmi6lY2drqOpaVfRadOw2TtC0aTDrhJCpXJGcHn6GiM4ttLpp+FwcXa/f8A4YzqK6/xb4Kew8dXGheFbPUdRVLeGdIgnnzAPEjnOxRkAtjOB2rlru0ubC7ktb63ltriI7ZIZkKOh9CDyKcZqSTQOLRDW34Yl8u4vV8zZ5lrt2+Zt3/vEOMeYu7pnG2TpnaMeYmJW34Yl8u4vV8zZ5lrt2+Zt3/vEOMeYu7pnG2TpnaMeYnHmP8AudT0Z6uSf8jTDf44/wDpSNqiityXw9czabpp07SNYe8uI5JZS9sTHIgI2tFgZKgEZJ7kV+aKLauj+jalWFNrmdr/AOVzDoq1eaXf6csR1CxubUTruiM8LJ5g9VyORyOlTXOgaxZeT9s0m+t/tDBIfNtnXzGPQLkcn6Ucsuw/bU9PeWu2pn1e0/XNW0lHTS9TvLJZDl1trh4wx9TtIzUp8M66t6tm2i6gtyyGQQtauGKA4LYIzj36U4eFfELLuGhalj5cf6I/O7pjjnNNRmtkzGdbDTjacotPu0NPibXmvVvG1vUTcqhjWc3cm8KTnaGznGe1N/4SHWi6MdXv90a7EP2l8quQ2BzwMqDj1APao10XVXt7mdNMvGhtWK3Egt2KwkdQxxhSPers3hHXIdGsdTOnXDW98xWHZC5PUBc8cbi3y+v5VS9o9rkN4OLSfKui27Xt9xTOuasdSGonVL03wGBdG4fzcYxjfnPSpE8Sa5HczXEes6gs84CyyrdOGkA6BjnJ6nrRL4b1yC6htp9G1CKe4JEMT2rq0mOTtBGTj2pzeF9fWREOiajukdkQfZX+dlzkDjkjB6elK1TzBvBtK/Lt5bf5aGXVyLWdTh019Ph1G7jspM77ZJ2EbZ65XODSw6NqlzqElhb6beS3kWfMt0gZpEx1yoGRToNC1e6Vza6XezCOXyXMdu7bZOmw4HDc9OtSlLp1NpzoNe+1pZ62+T/yKFaFt4g1myto7ez1a+t4Im3xxRXLqqN6gA4B5P51a03whrmq3l7a22nXAnsYjLPG8LhlwMhcYzubsO9Uk0XVJLa4uI9NvHgtWKzyrAxWEjqGOMKR71SU46q5EquGqNwk07W7ddvv6EkXiHWoIwkOr38aLIZQqXLgByclsZ68nnrRH4h1qG6nuYdXv47i5AE8q3Lh5cDA3HOTj3qtY6de6nM0Om2dxdyqpdkgiZyFHUkAdOetOvdL1DTfK/tGxubTzl3RefCybx6jI5HPal79r6jcMNzcjUbvppfuStrurtYtZtqt6bV1CtAbh9jAAAArnGAAAPoKWDxBrNtbxQW2r30MMJJijjuXVY8/3QDx1PT1q1YaBcReINMs/EGn31pBfTLGNyGFmDEDcpZSDjIPQ0t94Zvm8Sarp2h2F7fx2F1JDmKFpWCq5UFto6nHtV2qb6/8MYuphObkaVrXvpbt9/QqP4g1mSOCOTVr5ktmDwK1y5ETDoVGflPPUUlzr2sXsTRXmq31xG0glZJbl2BcDAbBPXHeq9vZXV3erZ2ttNPcsxVYY4yzkjqNo57Vdbwvr6yIh0TUd0jsiD7K/wA7LnIHHJGD09Khc7WlzWSwtNrm5U9+hBf6zqmqqi6nqV5eLH9wXE7SBfpknFUquw6NqlzqElhb6beS3kWfMt0gZpEx1yoGRTrbRdTuNSeyi0u9nuYTma2ihYyqAecjBI69x3pWlJ37lxnRpxtFpJa9Nu5Qorp/FnhZdL8TwaXoUF7ctPaxTLC482Xcy7ivyqM4+lM0Hw5FeTa3aazBeWt3p+nTXcaZEZV0XO10ZSSDkdx+tV7OXM49r/gYrHUXRVZPRpPzs/I5uirqaLqkmmnUU028axXOboQMYhzj7+MdapVDTW51xnGV+V3se2/ACXOna3F5mdssTeX5mduQ3O3zDjOOvlrnH3nxiP1+vIPgBLnTtbi8zO2WJvL8zO3Ibnb5hxnHXy1zj7z4xH6/X0+F/gR9D8Lz/wD5Glf1Ciiiuk8QKKKKACiiigAooooAKKKKACiiigAooooAKKKKACiiigAooooAKKKKACiiigAqnY6VZ6dLdS2sQWW8lM08n8TsemT6AcAf/Xq5RTuwM3xHL5PhXVZfM8rZZTN5nmeXswh53eZHtx6+YmP7y9R8IV93+I5fJ8K6rL5nlbLKZvM8zy9mEPO7zI9uPXzEx/eXqPhCvUy77Xy/U48V0CvTdH8S6U/hXw4LfxU/hrUtCM4eI2LzrOZGJ81QoKlsHaQ+P058yor0pwU1ZnLGXK7nsVt448PJq2j+Im16VIrDRvsUugfZpcySCJkKggeXsYkNknPHTPTH1XxLp8l74JisvEafY7Czgt9RVFuFjjKS+Y25SnzD7uMA8p7A15rRUKjFS5v66/5sp1G48vlb8v8AJHrmm+PNGi+JPiqTVNWa60jVo7hLO6dbho4fNZWwUG2RQVUIduDwOo5p6eM/D8viiSGbVrW2sf8AhG5dJivLW0ufLjYk7AQ5aVgB/EQPT3ryCip+rQtbyt+a/Ur20rt+d/xT/Q9o8G+K/Bvh6DRQdciP2U3Ud091ZXEs3zlwrQ9UiQgqWC/Me+c1U8P+KNF0XTvBVmPFkKxaTqk9zqCxRXQVo2YFTjyvm4BGO2/0yR5FRT9hHm5rv+r/AOZPtHa1v6tY9ji8caFb6e8uoa6mrTQ+LF1VIDHOzPbD5flMkYUHnOCR09aTxF4v8N3Nxa2+natp7WsuvR6nNKtre748Z3O5lZsEjA2opB9sV47RSjh4xaab0/4H+SHKq5Xv1/4P+bPVvEfi3S9T0fxxEPEqXL6lqcNzpsJjuPmjRi3GYwFOGC8kcoe2Cdb/AITXwevj3VNTfWBcW2t6T9kLPaTqtkwSMbXKlXIbawJj6ccnPHidFL6tG1r+X4JfohutJu/9b3/M6/4ia5Y61qmnLpk1pPBY2KWqyWsMyJhWYhczMXbAPU49O2a9HHiGw8MyeDtW1XxFPFBa+G0zoqRSN9r3o6gAj5ME4zuIxsHXjHhNXtR1zVtYSFNW1S9vltwVhW6uHkEY44XcTjoOnpTlRUoKF9NfxT/zEqlpc3l/l/ker+F/Hvhqz8KeHvNuLOx1LRPPBiura6k3b2JLIIXEbZVsESY6dcVW8M+MPDmi6X4S+06pH5tlNffaEt7eUvZ/aFwki7l2nYRyAxPpmvI6KHh4tt9/1v8A5gqslbyO58S6zpkXw/tPDlrrR1+7XU5L1rwRSokKFNvljzAGJJ+Y8Yz69a6Dwv4s0jStG8DW8nieO2GmajNdalAkdzgIxDKDtjw5ADLxnlvTJHk1FX7JWtfzJc23/XU9ji8caFb6e8uoa6mrTQ+LF1VIDHOzPbD5flMkYUHnOCR09abb+NvDugXOozT67L4nTUtatr5IhBKpto45S7MfMAG8ghcLkcdcV49RULDxXX+lb/JFSqyd79f+D/mz1zWvE2gN4T8TWcfjCTWptQ1GG/t7e4tp1UKrksgLKcNjAOcLwOT2s+N/HHhnWtL1k6Pf2Ktri26yRS2t4ZotjKRuy5iUIAeYwc9AOa8aopLDRVtXp/wP8kP2sr3/AK3b/VnsuueLfDWqSeJbC08SpZjVYLEw6iltPsPkJseFwEDgEjcCAR646Vw3xD16x17XLE6bPJeJY6dBZSXsiFWu3jXBkw3POe/PFcnRVxoxi73/AKtb8iXUbVgrb8MS+XcXq+Zs8y127fM27/3iHGPMXd0zjbJ0ztGPMTErb8MS+XcXq+Zs8y127fM27/3iHGPMXd0zjbJ0ztGPMTnzH/c6noz08k/5GmG/xx/9KRtV6V4a17QtPi8HPd61bxtpL3cl0nkzkr5o+UDEeCR0OD+dea0V+b06rpu6/rW5/QuMwcMZBQm2lrtbrFx6p9Gz0K18UadaaHobajqa6rdafrL3c0GyUs0RIAKl1C9twBI6jvkC7YeJ9K0jXmlbxXLqFldXM0oxZOJLV5I2UTFmAJZcgYX1J9j5hRV/WJdvz7Jd/JfocU8moTUk5Ozvf4erb/l0tfS3zueoeHvEuhaLLolpd68t6LK+nvJL0wTbY1aLYIlBXcST8x4A9/XA0nXEt/C3iW2u9fJvrhIYrNiZyZFjlLna235QcnAOOTyBXHUUnXl/Xol+SLWU0U23Jttp9Psycu3VvXyPVNG8b6Kmh6PPdXcEWp6ckyyLdQ3ErSM5JZ12MEcsDzv5z3rIs9X8P3Gg+FV1PVZoJNJuZDcWsMcgcq0oYMrjgALnod3p61wVFV9Zle9l/Vv8iFk1CLbjKSu77rS/NotNvefn5nqV74i0C6tNNt11mwjNnra3rGKzuERosDnJUsz8cluST1OM1DqPimzudH8SwQ+KB52oaqs9qSLkYg3ZxnZwACBj/ZPtnzOij6zPt+fl5+RMckoRt70nZ3+z3Uv5e6PXbzxd4WvNW8RxyX1u8GptbTRXEkNyEfy0Csj+XtkB3DcOo59ayLzxXY3UXjC4i1eC3u9TS2S2MUM0fm+XjeRw23IBGSQSeTjNec0UPEyfRf1f/MVPI8PT2lL7O9vs8vl15Fc9Qn8S6JN4ku3fXlMN54eFgbsQzELOFUZYFAx5BOQD1qbSPF/hyy0bSBHeW8dzpCzQqLi2uCZAzH51WNgh3qeQ/IPevKaKf1mbbdl/Tv8AqEsjoSgoOcrK3bomu3VOzOu+F7Y+JGmsp8viYgqM7f3T9M1sxeLNK0q00O2udUm8QPa6v9vlnaJx5UeMbB5nJbPz4HGe/euAsdRvdLuPP028uLOYqV8y3laNsemQQccVDLLJPM8s7tJJIxZ3c5ZieSST1NKFdwilHp/mn+htiMtjicQ6tR+7ZKy8ubra/wBro153PTdW8S6DLdWEFnqdkbYayuoyyrb3e5cZLMxkLHJ4G1QRnnIxUWo69oup2t5Z2/iP+y2XW5r9Z0gmK3Mchyp+VQwdemGAHoa81ooWIkui/q3n5IzjktGPLacrr0fz+H+vXU6y+1zT9W+Kv9tI4srBr9J98qNwqkEkhQTk7fTqa6DUfFNnc6P4lgh8UDztQ1VZ7UkXIxBuzjOzgAEDH+yfbPmdFTGvKKsv62/yNqmVUZ8mr9xJLb7LTW6fbU9T13xNoGrXXiS2tddWzGqPazxXq2821/LQK0TgJvHI3DAIOabd+LtC1Sx1DTE1mbT5Wt7OIaqYJCbswqQ24L8wznIz174ry6ireJk76LX18/PzOeOR4eMVFSlpa23Tl1+HX4Vo7ryPWX8Y+HJPFV3NPqIube/0aOzN1NDMGSRcbhIFw/zY5KE/jVFvEmi3GsXzSapZQwjw++lwSJb3IV2bIUfMHYgDGWbB9jivNKKTxMpbpdfxv/mwjkeHjtOWyW66ddt7Kx6enizRF1Oy1z+15BFb6T9kfRfIk5fyimwEDZsyd2c/hXmFFFZ1KrqO7/q+p34TA08Lfkbd7LW2yvZaJd3q7vuz234AS507W4vMztliby/MztyG52+YcZx18tc4+8+MR+v15B8AJc6drcXmZ2yxN5fmZ25Dc7fMOM46+WucfefGI/X6+jwv8CPofi+f/wDI0r+oUUUV0niBRRRQAUUUUAFFFFABRRRQAUUUUAFFFFABRRRQAUUUUAFFFFABRRRQAUUUUAFFFFAGb4jl8nwrqsvmeVsspm8zzPL2YQ87vMj249fMTH95eo+EK+7/ABHL5PhXVZfM8rZZTN5nmeXswh53eZHtx6+YmP7y9R8IV6uXfa+X6nHiugUUUV6pxhRRRQAUUUUAFFFFABRRRQAUUUUAFFFFABRRRQAUUUUAFFFFABRRRQAUUUUAFbfhiXy7i9XzNnmWu3b5m3f+8Q4x5i7umcbZOmdox5iYlbfhiXy7i9XzNnmWu3b5m3f+8Q4x5i7umcbZOmdox5icOY/7nU9Gevkn/I0w3+OP/pSNqiiivzI/pIKKKKACiiigAooooAKKKKACiiigAooooAKKKKACiiigAooooAKKKKACiiigAooooA9t+AEudO1uLzM7ZYm8vzM7chudvmHGcdfLXOPvPjEfr9eQfACXOna3F5mdssTeX5mduQ3O3zDjOOvlrnH3nxiP1+vqML/Aj6H4Tn//ACNK/qFFFFdJ4gUUUUAFFFFABRRRQAUUUUAFFFFABRRRQAUUUUAFFFFABRRRQAUUUUAFFFFABRRRQBm+I5fJ8K6rL5nlbLKZvM8zy9mEPO7zI9uPXzEx/eXqPhCvu/xHL5PhXVZfM8rZZTN5nmeXswh53eZHtx6+YmP7y9R8IV6uXfa+X6nHiugUUUV6pxhRRRQAUUUUAFFFFABRRRQAUUUUAFFFFABRRRQAUUUUAFFFFABRRRQAUUUUAFbfhiXy7i9XzNnmWu3b5m3f+8Q4x5i7umcbZOmdox5iYlbfhiXy7i9XzNnmWu3b5m3f+8Q4x5i7umcbZOmdox5icOY/7nU9Gevkn/I0w3+OP/pSNqiiivzI/pIKKKKACiiigAooooAKKKKACiiigAooooAKKKKACiiigAooooAKKKKACiiigAooooA9t+AEudO1uLzM7ZYm8vzM7chudvmHGcdfLXOPvPjEfr9eQfACXOna3F5mdssTeX5mduQ3O3zDjOOvlrnH3nxiP1+vqML/AAI+h+E5/wD8jSv6hRRRXSeIFFFFABRRRQAUUUUAFFFFABRRRQAUUUUAFFFFABRRRQAUUUUAFFFFABRRRQAUUUUAZviOXyfCuqy+Z5WyymbzPM8vZhDzu8yPbj18xMf3l6j4Qr7v8Ry+T4V1WXzPK2WUzeZ5nl7MIed3mR7cevmJj+8vUfCFerl32vl+px4roFFFFeqcYUUUUAFFFFABRRRQAUUUUAFFFFABRRRQAUUUUAFFFFABRRRQAUUUUAFFFFABW34Yl8u4vV8zZ5lrt2+Zt3/vEOMeYu7pnG2TpnaMeYmJW34Yl8u4vV8zZ5lrt2+Zt3/vEOMeYu7pnG2TpnaMeYnDmP8AudT0Z6+Sf8jTDf44/wDpSNqiiivzI/pIKKKKACiiigAooooAKKKKACiiigAooooAKKKKACiiigAooooAKKKKACiiigAooooA9t+AEudO1uLzM7ZYm8vzM7chudvmHGcdfLXOPvPjEfr9eQfACXOna3F5mdssTeX5mduQ3O3zDjOOvlrnH3nxiP1+vqML/Aj6H4Tn/wDyNK/qFFFFdJ4gUUUUAFFFFABRRRQAUUUUAFFFFABRRRQAUUUUAFFFFABRRRQAUUUUAFFFFABRRRQBm+I5fJ8K6rL5nlbLKZvM8zy9mEPO7zI9uPXzEx/eXqPhCvu/xHL5PhXVZfM8rZZTN5nmeXswh53eZHtx6+YmP7y9R8IV6uXfa+X6nHiugUUUV6pxhRRRQAUUUUAFFFFABRRRQAUUUUAFFFFABRRRQAUUUUAFFFFABRRRQAUUUUAFbfhiXy7i9XzNnmWu3b5m3f8AvEOMeYu7pnG2TpnaMeYmJW34Yl8u4vV8zZ5lrt2+Zt3/ALxDjHmLu6Zxtk6Z2jHmJw5j/udT0Z6+Sf8AI0w3+OP/AKUjaooor8yP6SCiiigAooooAKKKKACiiigAooooAKKKKACiiigAooooAKKKKACiiigAooooAKKKKAPbfgBLnTtbi8zO2WJvL8zO3Ibnb5hxnHXy1zj7z4xH6/XkHwAlzp2txeZnbLE3l+ZnbkNzt8w4zjr5a5x958Yj9fr6jC/wI+h+E5//AMjSv6hRRRXSeIFFFFABRRRQAUUUUAFFFFABRRRQAUUUUAFFFFABRRRQAUUUUAFFFFABRRRQAUUUUAZviOXyfCuqy+Z5WyymbzPM8vZhDzu8yPbj18xMf3l6j4Qr7v8AEcvk+FdVl8zytllM3meZ5ezCHnd5ke3Hr5iY/vL1Hx/FYaZH5e7TIZdm3dvkl+fHl5zhx97y3zjH+ukxjEezanmFHBX9rfXt5f8ADnfg8jxebc31a3uWvd232/I5CiuvisNMj8vdpkMuzbu3yS/Pjy85w4+95b5xj/XSYxiPYRWGmR+Xu0yGXZt3b5Jfnx5ec4cfe8t84x/rpMYxHs1/t/B+f3f8E7/9R837R/8AAv8AgHIUV18Vhpkfl7tMhl2bd2+SX58eXnOHH3vLfOMf66TGMR7CKw0yPy92mQy7Nu7fJL8+PLznDj73lvnGP9dJjGI9h/b+D8/u/wCCH+o+b9o/+Bf8A5CiuvisNMj8vdpkMuzbu3yS/Pjy85w4+95b5xj/AF0mMYj2EVhpkfl7tMhl2bd2+SX58eXnOHH3vLfOMf66TGMR7D+38H5/d/wQ/wBR837R/wDAv+AchRXXxWGmR+Xu0yGXZt3b5Jfnx5ec4cfe8t84x/rpMYxHsIrDTI/L3aZDLs27t8kvz48vOcOPveW+cY/10mMYj2H9v4Pz+7/gh/qPm/aP/gX/AADkKK6+Kw0yPy92mQy7Nu7fJL8+PLznDj73lvnGP9dJjGI9hFYaZH5e7TIZdm3dvkl+fHl5zhx97y3zjH+ukxjEew/t/B+f3f8ABD/UfN+0f/Av+AchRXXxWGmR+Xu0yGXZt3b5Jfnx5ec4cfe8t84x/rpMYxHsIrDTI/L3aZDLs27t8kvz48vOcOPveW+cY/10mMYj2H9v4Pz+7/gh/qPm/aP/AIF/wDkKK6+Kw0yPy92mQy7Nu7fJL8+PLznDj73lvnGP9dJjGI9hFYaZH5e7TIZdm3dvkl+fHl5zhx97y3zjH+ukxjEew/t/B+f3f8EP9R837R/8C/4ByFFdfFYaZH5e7TIZdm3dvkl+fHl5zhx97y3zjH+ukxjEewisNMj8vdpkMuzbu3yS/Pjy85w4+95b5xj/AF0mMYj2H9v4Pz+7/gh/qPm/aP8A4F/wDkKK6+Kw0yPy92mQy7Nu7fJL8+PLznDj73lvnGP9dJjGI9hFYaZH5e7TIZdm3dvkl+fHl5zhx97y3zjH+ukxjEew/t/B+f3f8EP9R837R/8AAv8AgHIUV18Vhpkfl7tMhl2bd2+SX58eXnOHH3vLfOMf66TGMR7CKw0yPy92mQy7Nu7fJL8+PLznDj73lvnGP9dJjGI9h/b+D8/u/wCCH+o+b9o/+Bf8A5CiuvisNMj8vdpkMuzbu3yS/Pjy85w4+95b5xj/AF0mMYj2EVhpkfl7tMhl2bd2+SX58eXnOHH3vLfOMf66TGMR7D+38H5/d/wQ/wBR837R/wDAv+AchRXXxWGmR+Xu0yGXZt3b5Jfnx5ec4cfe8t84x/rpMYxHsIrDTI/L3aZDLs27t8kvz48vOcOPveW+cY/10mMYj2H9v4Pz+7/gh/qPm/aP/gX/AADkK2/DEvl3F6vmbPMtdu3zNu/94hxjzF3dM42ydM7RjzE1IrDTI/L3aZDLs27t8kvz48vOcOPveW+cY/10mMYj2KrW2j2M1zawRI6Rxq6NM4F0A8GUcecuQTGzEKGILuQqhUeHOrm2HxlN4enfmlorrS7NaPDOYZTVhj8QlyUmpOzu7Jpu3mS0VixeJ5Y/L3afZy7Nu7f5nz48vOcOPveW+cY/10mMYj2EXieWPy92n2cuzbu3+Z8+PLznDj73lvnGP9dJjGI9nj/6v4vuvv8A+AfYf6+5X/JP7o//ACRtUVixeJ5Y/L3afZy7Nu7f5nz48vOcOPveW+cY/wBdJjGI9hF4nlj8vdp9nLs27t/mfPjy85w4+95b5xj/AF0mMYj2H+r+L7r7/wDgB/r7lf8AJP7o/wDyRtUVixeJ5Y/L3afZy7Nu7f5nz48vOcOPveW+cY/10mMYj2EXieWPy92n2cuzbu3+Z8+PLznDj73lvnGP9dJjGI9h/q/i+6+//gB/r7lf8k/uj/8AJG1RWLF4nlj8vdp9nLs27t/mfPjy85w4+95b5xj/AF0mMYj2EXieWPy92n2cuzbu3+Z8+PLznDj73lvnGP8AXSYxiPYf6v4vuvv/AOAH+vuV/wAk/uj/APJG1RWLF4nlj8vdp9nLs27t/mfPjy85w4+95b5xj/XSYxiPYReJ5Y/L3afZy7Nu7f5nz48vOcOPveW+cY/10mMYj2H+r+L7r7/+AH+vuV/yT+6P/wAkbVFYsXieWPy92n2cuzbu3+Z8+PLznDj73lvnGP8AXSYxiPYReJ5Y/L3afZy7Nu7f5nz48vOcOPveW+cY/wBdJjGI9h/q/i+6+/8A4Af6+5X/ACT+6P8A8kbVFYsXieWPy92n2cuzbu3+Z8+PLznDj73lvnGP9dJjGI9hF4nlj8vdp9nLs27t/mfPjy85w4+95b5xj/XSYxiPYf6v4vuvv/4Af6+5X/JP7o//ACRtUVixeJ5Y/L3afZy7Nu7f5nz48vOcOPveW+cY/wBdJjGI9hF4nlj8vdp9nLs27t/mfPjy85w4+95b5xj/AF0mMYj2H+r+L7r7/wDgB/r7lf8AJP7o/wDyRtUVixeJ5Y/L3afZy7Nu7f5nz48vOcOPveW+cY/10mMYj2EXieWPy92n2cuzbu3+Z8+PLznDj73lvnGP9dJjGI9h/q/i+6+//gB/r7lf8k/uj/8AJG1RWLF4nlj8vdp9nLs27t/mfPjy85w4+95b5xj/AF0mMYj2EXieWPy92n2cuzbu3+Z8+PLznDj73lvnGP8AXSYxiPYf6v4vuvv/AOAH+vuV/wAk/uj/APJG1RWLF4nlj8vdp9nLs27t/mfPjy85w4+95b5xj/XSYxiPYReJ5Y/L3afZy7Nu7f5nz48vOcOPveW+cY/10mMYj2H+r+L7r7/+AH+vuV/yT+6P/wAkbVFYsXieWPy92n2cuzbu3+Z8+PLznDj73lvnGP8AXSYxiPYReJ5Y/L3afZy7Nu7f5nz48vOcOPveW+cY/wBdJjGI9h/q/i+6+/8A4Af6+5X/ACT+6P8A8kbVFYsXieWPy92n2cuzbu3+Z8+PLznDj73lvnGP9dJjGI9hF4nlj8vdp9nLs27t/mfPjy85w4+95b5xj/XSYxiPYf6v4vuvv/4Af6+5X/JP7o//ACR9D/ACXOna3F5mdssTeX5mduQ3O3zDjOOvlrnH3nxiP1+vFP2btRe/0bXPMZAY5oB5SSHA/d7S+0yHBYqSTsUE5AZgoSL2uu6nRlQiqU90fnmZYynjcZUxNNPlk7q+4UUUVZ54UUUUAFFFFABRRRQAUUUUAFFFFABRRRQAUUUUAFFFFABRRRQAUUUUAFFFFABRRRQBm+I5fJ8K6rL5nlbLKZvM8zy9mEPO7zI9uPXzEx/eXqPkWvrrxHL5PhXVZfM8rZZTN5nmeXswh53eZHtx6+YmP7y9R8i142afY+f6H6TwL/zEf9uf+3BRRRXjn6QFFFFABRRRQAUUUUAFFFFABRRRQAUUUUAFFFFABRRRQAUUUUAFFFFABRRRQAVDfy+XoeoL5mzzIlXb5m3f+9Q4x5i7umcbZOmdox5iTVDfy+XoeoL5mzzIlXb5m3f+9Q4x5i7umcbZOmdox5id2Xf75T9UeDxH/wAijEf4WchRRRX6afzoFFFFABRRRQAUUUUAFFFFABRRRQAUUUUAFFFFABRRRQAUUUUAFFFFABRRRQAUUUUAfR/7MMufD+vReZnbdRN5fmZ25Q87fMOM46+WucfefGI/cq8N/Zhlz4f16LzM7bqJvL8zO3KHnb5hxnHXy1zj7z4xH7lXzuJ/jSPUpfAgooornNAooooAKKKKACiiigAooooAKKKKACiiigAooooAKKKKACiiigAooooAKKKKACiiigDN8Ry+T4V1WXzPK2WUzeZ5nl7MIed3mR7cevmJj+8vUfItfXXiOXyfCuqy+Z5WyymbzPM8vZhDzu8yPbj18xMf3l6j5Frxs0+x8/0P0ngX/mI/7c/9uCiiivHP0gKKKKACiiigAooooAKKKKACiiigAooooAKKKKACiiigAooooAKKKKACiiigAqG/l8vQ9QXzNnmRKu3zNu/96hxjzF3dM42ydM7RjzEmqG/l8vQ9QXzNnmRKu3zNu/8AeocY8xd3TONsnTO0Y8xO7Lv98p+qPB4j/wCRRiP8LOQooor9NP50CiiigAooooAKKKKACiiigAooooAKKKKACiiigAooooAKKKKACiiigAooooAKKKKAPo/9mGXPh/XovMztuom8vzM7coedvmHGcdfLXOPvPjEfuVeG/swy58P69F5mdt1E3l+ZnblDzt8w4zjr5a5x958Yj9yr53E/xpHqUvgQUUUVzmgUUUUAFFFFABRRRQAUUUUAFFFFABRRRQAUUUUAFFFFABRRRQAUUUUAFFFFABRRRQBm+I5fJ8K6rL5nlbLKZvM8zy9mEPO7zI9uPXzEx/eXqPkWvrrxHL5PhXVZfM8rZZTN5nmeXswh53eZHtx6+YmP7y9R8i142afY+f6H6TwL/wAxH/bn/twUUUV45+kBRRRQAUUUUAFFFFABRRRQAUUUUAFFFFABRRRQAUUUUAFFFFABRRRQAUUUUAFQ38vl6HqC+Zs8yJV2+Zt3/vUOMeYu7pnG2TpnaMeYk1Q38vl6HqC+Zs8yJV2+Zt3/AL1DjHmLu6Zxtk6Z2jHmJ3Zd/vlP1R4PEf8AyKMR/hZyFFFFfpp/OgUUUUAFFFFABRRRQAUUUUAFFFFABRRRQAUUUUAFFFFABRRRQAUUUUAFFFFABRRRQB9H/swy58P69F5mdt1E3l+ZnblDzt8w4zjr5a5x958Yj9yrw39mGXPh/XovMztuom8vzM7coedvmHGcdfLXOPvPjEfuVfO4n+NI9Sl8CCiiiuc0CiiigAooooAKKKKACiiigAooooAKKKKACiiigAooooAKKKKACiiigAooooAKKKKAM3xHL5PhXVZfM8rZZTN5nmeXswh53eZHtx6+YmP7y9R8i19deI5fJ8K6rL5nlbLKZvM8zy9mEPO7zI9uPXzEx/eXqPkWvGzT7Hz/AEP0ngX/AJiP+3P/AG4KKKK8c/SAooooAKKKKACiiigAooooAKKKKACiiigAooooAKKKKACiiigAooooAKKKKACob+Xy9D1BfM2eZEq7fM27/wB6hxjzF3dM42ydM7RjzEmqG/l8vQ9QXzNnmRKu3zNu/wDeocY8xd3TONsnTO0Y8xO7Lv8AfKfqjweI/wDkUYj/AAs5Ciiiv00/nQKKKKACiiigAooooAKKKKACiiigAooooAKKKKACiiigAooooAKKKKACiiigAooooA+j/wBmGXPh/XovMztuom8vzM7coedvmHGcdfLXOPvPjEfuVeG/swy58P69F5mdt1E3l+ZnblDzt8w4zjr5a5x958Yj9yr53E/xpHqUvgQUUUVzmgUUUUAFFFFABRRRQAUUUUAFFFFABRRRQAUUUUAFFFFABRRRQAUUUUAFFFFABRRRQBm+I5fJ8K6rL5nlbLKZvM8zy9mEPO7zI9uPXzEx/eXqPkWvrrxHL5PhXVZfM8rZZTN5nmeXswh53eZHtx6+YmP7y9R8i142afY+f6H6TwL/AMxH/bn/ALcFFFFeOfpAUUUUAFFXbHRdU1OGSXTdNvLuOL/WPbwNIE78kDiqVOzW5KnGTcU9VuFFXrDRr7U7W9uLGJJI7GLzrjMqKyp/eCkgsPoDjI9RVGhprcFOMm4p6rfyCir2naNfatFdyWESSizga4nBlRWWNRksAxBbGO2e3rUFrYXl6JDZWs9wIwC/lRl9uTgZx0ySBRyvsT7WndrmWm/lfa5BRWrD4W8QXIc2+halKI3MbmOzkbaw6qcDgj0pjeGtdSbyX0XUFl3BNhtXDbiCQMY6kAkD2p8kuxH1mhe3OvvRm0UEFWIYYI4IPaipNwoorZ/4RLWhbSTm1QJHZrfN/pEe7yGzhwu7JHHYZHGcZFUoyaukZ1K1Onbnklfu7GNRRT4IJbm4jgtonmmkYIkcalmdjwAAOpqdzRtJXYyir2m6Lf6tqy6ZZQA3rMVEMsixHcOq/OQM+3Wqk0L29xJDMu2SNijjOcEHBp2drkKpBy5E1fe3l3GUUUUiwooooAKhv5fL0PUF8zZ5kSrt8zbv/eocY8xd3TONsnTO0Y8xJqhv5fL0PUF8zZ5kSrt8zbv/AHqHGPMXd0zjbJ0ztGPMTuy7/fKfqjweI/8AkUYj/CzkKKKK/TT+dAooooAKKK0NN8P6zrMcsmj6TfX6Q481rW2eUR56bioOOh60NpK7Dd2M+iitLS9A1HWrW/uNNhjmTToDcXIM6IyRjqwVmBYDvtBxkeoobSV2G7sjNoorS0jw/qOureHS4Y5vsVu1zOpnjRhGoyzAMwLYA525NDaSuxpNuyM2irNpp17qHm/YLO4uvJUPJ5MTPsXIGTgcDJA+pq7/AMIp4h+z3E/9g6n5Nq5jnk+xybYmHVWOMKRkcH1pNpbiMmirt9o2qaYm7UtNu7NTI0WbiBoxvXG5eR1GRkds1Sppp7Ds1uFFFX9K0W/1prpdMg842ls91NmRV2RJjc3zEZxnoOaL2V2CTbsihRWlregaj4euobfVoUie4gW4iMc6Sq8bZ2sGRiCDg96zaSaauhbBRU/2K6/s8X32ab7GZfJFx5Z8vzMZ2bum7HOOuKuXPh3U7Xw7a67NBH/Z11KYYpknjfLgZKlQxZTjnkDt60Npbjs2ZlFFFMQUUUUAFFFFAH0f+zDLnw/r0XmZ23UTeX5mduUPO3zDjOOvlrnH3nxiP3KvDf2YZc+H9ei8zO26iby/Mztyh52+YcZx18tc4+8+MR+5V87if40j1KXwIKKKK5zQKKKKACiikZQylTnBGDg4P5igBaK8/wDhAZpNA1iW6vr+8kXWbu3Vr29luCsccpVFHmMcYHp175qKX4qPbeNodCutKtGhn1T+zVlttR86VGIO15EEexM4+4ZN4/u0btJdUn99v8w2Tb6X/C/+R6LRXivhXxPc+BNP194/DQPhyHxRcwzXUNwkf2dXmWNdkIX5lU4B5XGeAcVvr8adKfxQNOWK0+yHVP7K3nUUF35udvmfZsZ8rf8ALu3Z77cUL3rW62/T/NA9G79L/hf/ACPS6K4H4XW0Fpe+NoLSGOCFPEk22OJAqr+6iPAHFUfD9vc/Ea88RahqmtaraQWepz6bY2mnXslosCxYHmN5ZBd2Jz8xIHQClul6J/l/mN6N372/P/I9Morg18Q63odza+EdLtD4p1mw05bm+vbu6+xqyklVOdrkuxU8dBjlqpWXxU1DXLywh8NeGkvxqGlNqMAl1AQv8kgjkjbKEKQxIBBIPGdo5qt3Zf1v/kyemv8AW3+Z6TRXn1v8StRUa3dal4djh0zQbq4g1C6gv/MZBHEJAyIUUvnIXtgsOoyRnWXxj/tex1OLT7PTG1KHSX1S2jt9WW5j2L95JWRP3ci5B2YYH+93qXJKPN5X+Vr/AJFJXdvO342PUqK860rx7rzaH4YtJtGt7/xDrVp9pRFvfLh8lEQtNJJ5XyElx8io3J610/hDxQvirSZ7h7RrG7s7uWyvLUyCTypozhgHH3h0IOBkHoKtxabXb/hiFJNJm9RXLeNPF7+FFsyn9if6SXz/AGtrK6f93H3NyNv689McetJ4L8Yv4rN4H/sP/RtmP7J1pdQ+9n7+1F2dOOuefSpWuxT03OqoriH8KeJX8aHUf+EgmGmNqv2k2gu5ABb/AGXyzGFxjmX5sZwPvZ3Vy3grR9d13QzLY+IdSQ2XiS9SdrnUp5Ge3QSRpGNxbOCUPOOmeSBS/wAr/l/n+A/6/P8Ay/E9gorJ8LafqGleE9LsNavDfahb2scdzcmRn82QD5m3NgnnueT3r5rgy1vGzMxJQEkseeK78NhPrDklK1jlq1/ZJNrc+qq4/SPHUM3jDUfD2qFYporlktJeglHXYf8AaGePUe/XwnHufzNIFC/d45zkHv616EcrST5pHNLGN2sj6V8Ry+T4V1WXzPK2WUzeZ5nl7MIed3mR7cevmJj+8vUfIte/eFvGl7rPgvW7TUvM87T7CV/7Q37FK7Dje/mR7XHXPmJwM7lxurwGvjc4pypTjCW6v+h+scBzU44iS/uf+3BRRRXhH6WFFFFAHZ+B1LeG/F6qCSdNAAA6/OKb4U8LO7T3uuaZFJYfYWuFe4kkAQCTZv2RHexyGG0lc9cjiuc0/XNW0lHTS9TvLJZDl1trh4wx9TtIzUp8Ta816t42t6iblUMazm7k3hSc7Q2c4z2roVSHu3Wyt+b/AFPHq4TEudX2cklNp31urJLS222+voz0q30XTtG8RazHpumzTWtx4YFybMF1ZyzpuUZLMo46ZJHPNQWngnQtRW21MWH2F5NJe8OlSzSsm8SbFclcy7CDuwOenI5rzr/hIdaLox1e/wB0a7EP2l8quQ2BzwMqDj1APamHXNWOpDUTql6b4DAujcP5uMYxvznpWrr0n9nv+v8AnttocSyrGJXVaztq7vWytr013vuuh6Db6Xp2l61rA0n5Y7jwrcyyRqsuxJMYYIZAGKZXIJz3HauF0TxFe6At2LER/wCloqSFweArhxjBHdcfQmmJ4k1yO5muI9Z1BZ5wFllW6cNIB0DHOT1PWs2sZ1dU4ab/AI3/AMz0MNgZRUo13zJ8u+u3c9K0rVE1XwL4l1PWYbmU3WqxSulhKImDMGPyllbgenp3rPvvFur+GdXP2GB47OeWG+s4r+RpZFhVWEakhzhcE8ZzwOlctZeItb0y2+z6brF/aQ5LeVBdPGuT1OAcVWvtRvdTuPtGpXlxeTbQvmXErSNgdsk5xVSre6uXRq34GFPK0qs+dJwl017RS026b/I2PB2mjXPFccV1ax3sWyWaeOaV41KhSSSUBbg4OFGT0r0DSdD0Sx8ZeFbrTdORl1G3uWwyzIoePO11R3ZhwOhJ6g4BxXklrd3NjdJc2VxLbTxnKSwuUZfoRyKuP4j1uSSN31jUGeKQyxsbpyUc9WHPBOTzRSqwhFJrVDx+AxGJm/Z1OWLi1a7tqpLb1afTa3Y6pItFtfBkmsal4VhE66qLb7OLieLEbQlxyzE59D9M5rd0nTtPsp7iSx0ktHeeEBdT2cEsn712mG7BYswGAOnpxXm1xr+sXdrJbXeq309vK2+SKS5dkds5yQTgnPOakfxLrskiSSa1qLvGuxGa6clVyDgHPAyqn6gelVGvBPbp2XZpmVXLcRUi1z7v+aTVtLL7/n5noEfhbQ7qxa4i0T7Nc3nh+4vo7MzSu8EsZ2oyAtkhs5wwPQY70aXoFha+MPB0MmlfY5NQsGe4RJp43V/nIcEPuU4A74wTx0x50dc1Y6l/aJ1S9N8Bj7V9ofzcYxjdnNSp4m16ORZI9b1FXXdtZbuQEbjlsHPc9fWn7andPl6+Xd/5/gRLLMY4uPtd0+stLppddldebt3PRPBGi2Wm3PhG6i0WbUbnUneeTUElfFrtYrtAHy4GMndk8npxWSdH0+20mXWZtFfXZ7vWZbVovNkRYApzj92Qd7Z4zx7evHQ+Idat0ZYNXv4leXzmCXLgNJnO84P3s8560sHiHWraaea21e/hluTuneO5dWlPqxB5/Gj29PRcu3p5f5Wv5lf2bivayqe0385LS8na99N+ltvNlnxhpNtoXjDUtMsZDJb2821CxyQMA4J9RnH4Vi0rMzuWdizMckk5JNJXG9z3KMJQpxhN3aSTffz+YUUUUGoVDfy+XoeoL5mzzIlXb5m3f+9Q4x5i7umcbZOmdox5iTVDfy+XoeoL5mzzIlXb5m3f+9Q4x5i7umcbZOmdox5id2Xf75T9UeDxH/yKMR/hZyFFFFfpp/OgUUUUAFd98NlLaD44VQSToLgADr+8SuBrR0vxDrWhrIui6vf6cspBkFpcvEHI6Z2kZ6moqRcoOK6ji7ST7M6vwR4Nlmmmv9f0iCXTP7Nlu0e6llARVkCGTZCfMYhsjZlc9cgc13Fn4d0vQfFurJpGkXE1nfeDGu2sEMiNIzMm5V3FnXOOmWIyea8kbxh4me/S+fxFqzXcaGNLg30hkVCclQ27IB9KjbxT4gZ43bXdSLRKUjY3kmUUsGIHPA3Kpx6gHtWM6dSb1ff9f+AaxlCPTt+n+TPVtN+HvhvWRp+rf2X/AGY02iz3zaNLPM0ZdJBGjkjdN5bBt2F544PWoNP0bSdI8U6idEwkd14RvJZoo0nESS7CreWZlDsh25GcnqM15a/iPW5NXXVX1jUG1FRhbw3TmYDGMB856e9Sp4t8SRXs15H4g1RLqdQks63sgeRR0DNnJAz0NS6NRprm3T/G/wDn+A41Ipp26r8Lf5P7xdA8TX/hxb8ad5f+nW4t5S4OQu9X4wRzlQO/BNdvBrt3rnwz8ca3eeWt1datZTuIwQqsWY4GSTgfWvMCcnJ61oQa9rFrpUumWuq30OnzZ8y0juXWJ89coDg5wO1bzhzarfT8Gn+hlF2flr+TX6mr4n8d6t4tt/J1QQKn2yW8xErD55AoI5Y/KAgwPc8mu98C+BdC1bRNEh13SIvtOqwXUkU8T3LzSKm7D5VhFFtKgYIctxkDNeO1qWfifX9Os47TT9b1K1ton8yOGC7kREb+8FBwD71E6X7vkp6f8MVGfvc0tf8Ah7noyW1lP8PPAscnhe2uYbi+mS6mzcDZ++jjZmKyDBbjr0wAMdKRtI8KXni/xVoMPhiGAaTa6jJFc/bJ2ZmiH7s7dwUYIPYgggY4JPncXinxBBH5cGu6lGnnG42peSAeaTkyYB+9nnPWli8V+IYL64vYde1OO7ugFnuEvJBJKBwAzZy2PepdKeuvfq+v+RSqRVtNrfcm/wAz1+bRNJ8RXPhrStX8PTss3hWGQa2J3UWojhLAhR8hAPB3Z+8OnejaeCNGvtU0aWPw0h0+98LPfXDxyTmOG4CudwbeechRgkjnp3rys+JddOnyWB1rUTZyIEe3N0/luoAABXOCAAAB6AUtt4n16ytYbaz1vUre3gYtDFFdyKkZOclQDgHk9PU0pUZ62la9+/W/+a+4aqR0utrfhb/J/eekeGvCuleJdE8DQ3cEipPLqDTwRXMuLjyVVgqqzMEZ8YJQDP4DF650mz1/wH4T0uTRZvDFrf8AiVoXhMjtwyhS6mXnnpzkZB+leUy+J9fmgt4Ztb1KSK2kEsCPdyFYnHRlGflPJ5HrReeJte1G3eDUNb1G6hkkErxz3cjqzgYDEE8kADmm6U2736/rf+vQnnSjb1/I7fxD4d0aXwv4mu7bw5J4fn0G/it4HaeZ/tYZipVhISNwA3ZXHXpivNK0dS8QazrMccesavfX6Rf6tbq5eUJ9AxOKzq0pQlFWk7/8N/TFOSk9EFFFFamYUUUUAfR/7MMufD+vReZnbdRN5fmZ25Q87fMOM46+WucfefGI/cq8N/Zhlz4f16LzM7bqJvL8zO3KHnb5hxnHXy1zj7z4xH7lXzuJ/jSPUpfAgooornNAooooAKRgWUgMVJGAw6j86WigDgLb4S2ttYvY/wDCUa/JYy3wv5rZ2tQks3miUkkQBgC6g4BHpUknwn0xpw0Ota1bxR6p/a1vbxzxeXb3BYszKGjJIJY8MWHJxiu7ooWlrdP+B/kvuE0mrP8Ar+rnEP8ACrR5bqZpdR1Z7K51FtTudNa4U29xOXLgsuzO0HHyggHaM5PNWbP4dafp2vTahp+q6tawT3ZvJNOiuFFuZSdzEfLvALclQ4U88Y4rrqKFpt/X9WX3Ib1vf+v6uzB8NeFIfDNxqs0Go3162q3ZvJhdeVhZCACV2IuAQFGDnp9c5eqfDSwvtcutV0zWtc0C4viGvF0m8ESXLAY3srKwDYGMrg/jzXZUUrbB38zjp/hrp/2q2u9M1fWNKu4LIWMlzaXKtJcwglgJDIr5bJJ3DDcnmpdJ+Hel6Fr2nanpV3e26adYHT4bMNG0JiLbm3EoXLFgGJ3dR6ZB6yin1v8A11/zf3h/X9fccxp/gLTrOz8Q2l1d3mpWviGaSa8hujGAGddrbTGikAqAOScbQRzkmLSPh9aaXYXNlNrWs6lbT2jWYjvbhCI4mGCBsRcnAxubcR68musopWVrfId3e/zOIh+FthbWOkx2+u65He6OGSz1EXEZnjiZVUxEGMxlMKvBTqM9STXReHfDtl4Y0trLTzNIJJnuJp7iTfJPK5yzu3ck+mB6CtWiqu9ybIintbe5x9pgjl29PMQNj86ILW3ts/ZoIot3Xy0C5/KpaKQxGBZSAxUkYDDqPzrA8I+EYPB9jdWtrqN9fJdXT3bm88rKyOcuR5aJwTzg5x2xXQUUAFeVJ8EgkaoviBsKMDNmP/i69VoralXqUb8jtcznThP4keWf8KV/6mA/+AY/+Lrk9P8AAt/qXjC90S1l3QWU2ye9Me1UX6Z+8ewz+le/1Fb2sFqJBbxLH5sjSPgfeY9SfU//AFhXVHMK6Tu7mMsLTdrIw7rSrLw14B1G100fZYYLKZzKZNjbthy7P5keDxnd5iY/vJjI+VK+uvEcvk+FdVl8zytllM3meZ5ezCHnd5ke3Hr5iY/vL1HyLXy+attxb8/0P1LgVJLEJf3P/bjW0/SvtmhXtyLDVJ5lkijtpbaHdAGLAMshxnJyoUDuagutA1iyt5Li80m+t4YmCSSS2zqqMccEkYB5HHvWz4eu9Oi8GeIrG81KC1udQFusEckcrZ8uQOSSqEAY4Hv+ddTq3irSr3UvFBXxDG9pfaZFb2cZjnwZAFyMbOOUbk/3x744PZwcOZvW3l5/5L7/AL/ramMxVKvKMabcb9pbe5tpbrL/AMBZ52mi6rLpp1GPTLx7FQSblbdjEMcH5sYpzaDrC2sN02lXwt7hlWGY2z7JC33Qpxgk9sda7S78SaZcW9tqNjrzWbR6WllNo72jOHCgBkVsFArkfezkZ/CrOq+JdFlvPEd9Frz3ia3ai3hsZIJV+zElSGfI24TBxt3H0odGmr+936rz/P8ADqT/AGhi+ZL2W/lLTVK21urfNezscV/wiXiLzNn9haluzg/6I/Bxkjp6VAvh/WXvVs00i+a6aPzVgFs5cp/e24zj36V3x8WaYfi/Bqra9u0WNUkzsn2qyweXjZszuySc4xg9eoqh4V8S6ZHo+r6T4iv1laaSMw3Vx9oeOVEZjtzGRIoydw7ZJyAafsqV7KXfqun+ZP1/HKnzul9mLslK/vNprzcd2vyOZ0/wlrep6ff3lnp87x2BCzKImLFsgFQAOSM5I7DrVWTQNYh04X82k30dmVDC5a2cRkHod2MYNdvc+JtI1lvFkN7qyWn9pfZWhnjtZdkhj+/hckgkDHzEZ74q5H4j8NJoN1ZW+qwxrdaKLRfPtp3nSUBfleQggJkHCp8oz0GOT2VPlupdO68/8vxJ/tHGxetJ7rTllonGLevq2tumpwMvhjXoI2km0XUEREEjs1q4Cqc4J44BwevpVe60bU7G6itr3Tru3nnx5UUsDI0mTgbQRk8+lel6d4s0my1bSG/4SZEtbPQjZOES5CrcYIyB5fuvP+z9MxaP4v0XT4PCr6hqi3c9il5FdOI5meHzuUfJUEgYwdrZ54zVOhSvZS/LuT/aWOWrot79JLpJrdd4pf8Aby+fnp8P6yL82J0i/F2I/NNubZ/MCf3tuM496fF4b1qXULOy/su7jnvj/o6yQMvmD+8MjkAck9AOa7+18U6Da+KvDZXUbKPT9JNw5kgt7o7Q44XMm52JJJxgAc881nW/iSxh0PQRe64t3d2Otm6nAWYt5JYDILIB/CTjOcMOM5AUaNLrLr3Xdf5v7vu0/tDGu1qT1X8st/ft/wCkptX+1a/U5S68La1ba5PpH9mXc15CWPlw27sXUHG9RjJU9jis4Wtw14LRYJDcl/LEIQ7y+cbdvXOeMV6Xa+IPC8U3iOzm1OG4i1S5W7juZbe4WNgHY+U3lkScAqQemc8cAni/F+rR634uu9QheORJSn7yKNo1chFBO1iT279evGazlTikrPc6MHjMTWqOnUptJK92mk3Zd/V6bq3npTuvD+s2NvJcXuk31tDG2x5ZrZ0VW9CSMA8iov7K1EaZ/aP2C6+w52/avJbys5xjfjHXjrXqfjHW7LStc8Urd63NdyXtgtnFpXlviJ2VSHyfkwvUYOcseOuad/4y0CfQGms5raO6k0b+z3tZYLgyL8uNi4YRbdwyGwCOuM1cqNNX97b/AIP+S+846Oa4upThNUW1K2qTtqk+1+r97bQ5HxD4cjtr3RodAt724fU9NiuxAxE0gZi2VG1RkAL6etYV7YXem3Jt9RtZ7SdQCYp4yjAHpwea9HXxJoMccVoutJG0vh1NMN7DBN/o8qOWIIKBtjA4yuTxyK5jxbq1leaboem2V42ovptu8ct6UZRIWcsFG75sKOBkD6Uq1OCvKL/q7/4f5nRgsViXONKcHbXVp+bvdq3ZW367GZL4Y16CNpJtF1BERBI7NauAqnOCeOAcHr6VXutG1Oxuora9067t558eVFLAyNJk4G0EZPPpXpeneLNJstW0hv8AhJkS1s9CNk4RLkKtxgjIHl+68/7P0zBpfizRrKz8MG91jz7mzivIbmZIpWktzN9yQFlG7b0ODnnjNU6NK+kvy7mCzLHLei38pLpJ9u8Uv+3l8/PLrRNVsruG1vNMvLe4nIEUMtuyvJk4G1SMnnjitzW/CqaR4L07U57a/s9RnuXgnt7rgDaAQwUqCM57k102h+LND0CDTNPudWk1Jo7m4lOoxwyYtBJFsG0Phjz8xwB14yerF8TaHpumeHo5NcfW30vVTcTB4JFLRtjlN4wcHJwSDn86apUrNc29u2mqv92vkTUx2NlUglTdk+ikub4vLTZfFrrfbfjbDQLiLxBpln4g0++tIL6ZYxuQwswYgblLKQcZB6GlvvDN83iTVdO0Owvb+OwupIcxQtKwVXKgttHU49q7TVvEugy3VhBZ6nZG2GsrqMsq293uXGSzMZCxyeBtUEZ5yMVFqOvaLqdreWdv4j/stl1ua/WdIJitzHIcqflUMHXphgB6Gl7Km1a/4ry/LX7hxx+MlKM3TautfdlZa72te/S2/XY82ZWRyrqVZTggjBBqC/l8vQ9QXzNnmRKu3zNu/wDeocY8xd3TONsnTO0Y8xOg8Yavba74w1LU7GMx29xNuQMMEjAGSPU4z+Nc/fy+XoeoL5mzzIlXb5m3f+9Q4x5i7umcbZOmdox5iXl/++U/VDz2cp5JWnNWbhdrt5fI5CiinRMEmR2UOFYEqeje1fpp/PJfm8P6zb6SmqT6RfxafJjZdvbOsTZ6YcjBz9aml8JeI4JLaOfw/qkb3bbbdXspAZjjOEBHzcc8V6XeeONDi8WP4ls/E809jeT2k1xoD6exkVYnU+XvYbFCYJG1ucAe9RDxR4fsm1SKTxWdYGr6zbXiSSW1wFskjlLs77lzvIO3CBunXFcqqzdvd/Py/wA3rtoa8kUnr/Wv9W3PPT4L8UAOT4d1UKgZmb7FJtAU4Y5xjg8fWoo/CviGW9ubOLQdTe6tVDXEC2cheEEZBZcZUEeteg2fjDTv+Fk+Kr+fxQF0+7tr1dOmdbkqHnAC7VCFkIAUE4H3RjOBS+C/G+ip4MTT9fv4otTs9TW9imv1u5FlCoqx4MDBsptwA+RjGKXtanLdx6L8X+g3CCdk+rX3L9ThLfwZr114Sm8RwadO+nQy+W0ixMcjDFn4GNi7cFicAkD1xBd+FPEWnwxS3+g6nbRzOscTzWciB2booJHJPYCu1vfEmga54R1+0vdX+xTza8+pRRQ2cg+0xlCNqjJCEsc4ZuM962/EfifwlqHhjxHpOm69ZouoG2ezeSzujK3ltkieVlZnfHA6qAOMZxR7Won8Pbo/L/N/cP2cbaPv+bt+n3nmc/g7xNbZ+0eHdVjCusZLWUgw7Y2r0+8dw468iq0nh/WYdXTSpdIvk1F8bLNrZxM2RnhMZPHtXrl9470h9Z8UT2vjACC80KKz08Kl2NswVQQB5fy8qxz/ALY9TgtPHPhWG+05b7V4bsSeGBpNxc+RcnyZg247iFSQowO3KHPHTFL21S3w/n2f+X4i5Id/60/zf3Hko8N64bm6txouoGezUNcxC1fdAD0LjGVH1q7pngbxHqfiaDQV0m7tr+Zd/l3UDx7I/wDno2RkL74/WvQrfxpoa+LHuE1uws4rXw5LplrcW9rdhfMbd5YBYPIduR8zAegziotJ8ZaJZ3/w/utQ18XDaVFcRagRFOzQ+ZuK53INwGQDtJ6cZHNN1altI/1r/kvvDkjbf+tP839x5vH4W8QTX11ZQ6HqUtzZgG4hS0kZ4QeQWXGVyPWqVnYXeo3sdnp9rNdXUhISCCMu7EDPCjk8CvWPDfinwnpfh2TR5dYtpbiy1YahBe3VteLHcnYuGAhYPuVgQBIMEY6duLs9Qj1b4w2uoQ7PLutbjlUxxGNSGmByFJJXPXGTWlOcpSs1/WhNSMYxck/61/r5mJf+HtZ0q2W41PSL6zgZzGstxbPGjMM5UMRgng8e1Emi6lY2drqOpaVfRadOw2TtC0aTDrhJCpXJGcHn6GvUPGfiXTtLh8Y6dc67Nr11qeqIY7KSKRVsvKlJbcXG3OBsGzIwBn0Enjfxx4Z1rS9ZOj39ira4tuskUtreGaLYykbsuYlCAHmMHPQDmso1pySfLv8A8D/N6+RcqcVJxvscT4t8FPYeOrjQvCtnqOoqlvDOkQTz5gHiRznYoyAWxnA7VzE2n3tvqBsLi0nivFcRm2eJlkDHou0jOfavXdc8W+GtUk8S2Fp4lSzGqwWJh1FLafYfITY8LgIHAJG4EAj1x0riPH2t6f4i8Q6cLC7aeKzsLexl1GdGX7Q6DDSkctjnuM4HSrpzndRa/q39L8RSjG10/wCv61/Ay5/B3ia2z9o8O6rGFdYyWspBh2xtXp947hx15FVpPD+sw6umlS6RfJqL42WbWziZsjPCYyePavXL7x3pD6z4ontfGAEF5oUVnp4VLsbZgqggDy/l5Vjn/bHqcQN4z8OE2cLeIgs83hYaRJqMVvOWtZ1bdlsoGKsPlyuT7VPtqn8v59n/AJfiHJDv/Wn+b+48qfw7rUerppUmj36ai4ylm1q4mYYzwmNx4BPSuh8YeDYtC0vwzJZ2mpQ3+rQObizu8M6Sq+zaqhFIyexBPIHNdjp/jfw5Z6faaBLrszyxaLc2P/CQJby4ikllV1UKcSFFClc4B54GKltvHPhrTNZ8FXEuvSawuk21zZ3U720wkiL5CSAEAlRkAYbdgdAeKUqlS6su/fXSX3XsvvBRir6/17v/AAfuOG8I+DTe/EHT/Dvi2w1PTxe5AXb9nlXgkNh0ORwe341h2vhzWNRiuZ9K0m/vba3YrJNb2zyLHjn5mUYHHNep2vjDwza+LvCm3VtNj0zRZridpre1vTtEgHy5lLuxJycYAHrzVTTfFGgLbeFGPihtN/4Ru6le4toraci9Hmlw8ZVQPnX5Tv2kd/cVSe9vwfnr+X3j5IpNXPJKKva3exalr+oX1tD5EN1cyTRxf3FZiQPwBqjXVFtpNmMkk2kfR/7MMufD+vReZnbdRN5fmZ25Q87fMOM46+WucfefGI/cq8N/Zhlz4f16LzM7bqJvL8zO3KHnb5hxnHXy1zj7z4xH7lXz2J/jSPTpfAgooornNAooooAKKKKACiiigAooooAKKKKACiiigAooooAKKKKACiiigAooooAKKKKACiiigDN8Ry+T4V1WXzPK2WUzeZ5nl7MIed3mR7cevmJj+8vUfItfXXiOXyfCuqy+Z5WyymbzPM8vZhDzu8yPbj18xMf3l6j5Frxs0+x8/wBD9J4F/wCYj/tz/wBuCiiivHP0gKKKKACiiigAooooAKKKKACiiigAp0UskEySwu0ckbBkdDgqRyCD2NNooDcs32o32qXAn1O8uLyYLtElxK0jAemSSccmq1FFG4oxjFcsVZBRRRQMKKKKACiiigAooooAKhv5fL0PUF8zZ5kSrt8zbv8A3qHGPMXd0zjbJ0ztGPMSaob+Xy9D1BfM2eZEq7fM27/3qHGPMXd0zjbJ0ztGPMTuy7/fKfqjweI/+RRiP8LOQooor9NP50CiiigAooooAKKKKACiiigAooooAKns726068ju9PuZrW5iOY5oJCjofUMORUFFAFi+v7zU7x7vUrue8uZMb5riQyO2BgZY8ngYqvRRQlbRBuFFFFABRRRQAUUUUAFFFFABRRRQB9H/ALMMufD+vReZnbdRN5fmZ25Q87fMOM46+WucfefGI/cq8N/Zhlz4f16LzM7bqJvL8zO3KHnb5hxnHXy1zj7z4xH7lXzuJ/jSPUpfAgooornNAooooAKKKKACiiigAooooAKKKKACiiigAooooAKKKKACiiigAooooAKKKKACiiigDN8Ry+T4V1WXzPK2WUzeZ5nl7MIed3mR7cevmJj+8vUfItfXXiOXyfCuqy+Z5WyymbzPM8vZhDzu8yPbj18xMf3l6j5Frxs0+x8/0P0ngX/mI/7c/wDbgooorxz9ICiiigAooooAKKKKACiiigAooooAKKKKACiiigAooooAKKKKACiiigAooooAKhv5fL0PUF8zZ5kSrt8zbv8A3qHGPMXd0zjbJ0ztGPMSaob+Xy9D1BfM2eZEq7fM27/3qHGPMXd0zjbJ0ztGPMTuy7/fKfqjweI/+RRiP8LOQooor9NP50CiiigAooooAKKKKACiiigAooooAKKKKACiiigAooooAKKKKACiiigAooooAKKKKAPo/wDZhlz4f16LzM7bqJvL8zO3KHnb5hxnHXy1zj7z4xH7lXhv7MMufD+vReZnbdRN5fmZ25Q87fMOM46+WucfefGI/cq+dxP8aR6lL4EFFFFc5oFFFFABRRRQAUUUUAFFFFABRRRQAUUUUAFFFFABRRRQAUUUUAFFFFABRRRQAUUUUAZviOXyfCuqy+Z5WyymbzPM8vZhDzu8yPbj18xMf3l6j5Fr668Ry+T4V1WXzPK2WUzeZ5nl7MIed3mR7cevmJj+8vUfIteNmn2Pn+h+k8C/8xH/AG5/7cFFFFeOfpAUUUUAFFFFABRRRQAUUUUAFFFFABRRRQAUUUUAFFFFABRRRQAUUUUAFFFFABUN/L5eh6gvmbPMiVdvmbd/71DjHmLu6Zxtk6Z2jHmJNUN/L5eh6gvmbPMiVdvmbd/71DjHmLu6Zxtk6Z2jHmJ3Zd/vlP1R4PEf/IoxH+FnIUUUV+mn86BRRRQAUUUUAFFFFABRRRQAUUUUAFFFFABRRRQAUUUUAFFFFABRRRQAUUUUAFFFFAH0f+zDLnw/r0XmZ23UTeX5mduUPO3zDjOOvlrnH3nxiP3KvDf2YZc+H9ei8zO26iby/Mztyh52+YcZx18tc4+8+MR+5V87if40j1KXwIKKKK5zQKKKKACiiigAooooAKKKKACiiigAooooAKKKKACiiigAooooAKKKKACiiigAooooAzfEcvk+FdVl8zytllM3meZ5ezCHnd5ke3Hr5iY/vL1HyLX114jl8nwrqsvmeVsspm8zzPL2YQ87vMj249fMTH95eo+Ra8bNPsfP9D9J4F/5iP8Atz/24KKKK8c/SAooooAKKKKACiiigAooooAKKKKACiiigAooooAKKKKACiiigAooooAKKKKACob+Xy9D1BfM2eZEq7fM27/3qHGPMXd0zjbJ0ztGPMSaob+Xy9D1BfM2eZEq7fM27/3qHGPMXd0zjbJ0ztGPMTuy7/fKfqjweI/+RRiP8LOQooor9NP50CiiigAooooAKKKKACiiigAooooAKKKKACiiigAooooAKKKKACiiigAooooAKKKKAPo/9mGXPh/XovMztuom8vzM7coedvmHGcdfLXOPvPjEfuVeG/swy58P69F5mdt1E3l+ZnblDzt8w4zjr5a5x958Yj9yr53E/wAaR6lL4EFFFFc5oFFFFABRRRQAUUUUAFFFFABRRRQAUUUUAFFFFABRRRQAUUUUAFFFFABRRRQAUUUUAZviOXyfCuqy+Z5WyymbzPM8vZhDzu8yPbj18xMf3l6j5Fr668Ry+T4V1WXzPK2WUzeZ5nl7MIed3mR7cevmJj+8vUfIteNmn2Pn+h+k8C/8xH/bn/twUUUV45+kBRRRQAUUUUAFFFFABRRRQAUUUUAFFFFABRRRQAUUUUAFFFFABRRRQAUUUUAFQ38vl6HqC+Zs8yJV2+Zt3/vUOMeYu7pnG2TpnaMeYk1Q38vl6HqC+Zs8yJV2+Zt3/vUOMeYu7pnG2TpnaMeYndl3++U/VHg8R/8AIoxH+FnIUUUV+mn86BRRRQAUUUUAFFFFABRRRQAUUUUAFFFFABRRRQAUUUUAFFFFABRRRQAUUUUAFFFFAH0f+zDLnw/r0XmZ23UTeX5mduUPO3zDjOOvlrnH3nxiP3KvDf2YZc+H9ei8zO26iby/Mztyh52+YcZx18tc4+8+MR+5V87if40j1KXwIKKKK5zQKKKKACiiigAooooAKKKKACiiigAooooAKKKKACiiigAooooAKKKKACiiigAooooAjuYEurWW3lMipMhRjFI0bgEYO11IZT6EEEdQa8+i+B/hOPy9z6hLs27t84+fHl5zhR97y3zjH+ukxjEez0WiolThP4lc6aGLxGGv7CpKN97Nq/3HnUXwP8Jx+XufUJdm3dvnHz48vOcKPveW+cY/10mMYj2EXwP8Jx+XufUJdm3dvnHz48vOcKPveW+cY/10mMYj2ei1xXj3x7H4bgNhprLLqsi8A8rbqf4m9/RfxPHV08HCrJRjBX9EbyzjHwV5Yif/AIFL/My7f4L+DTOYVuLyeW38vzozdLu6Rn5gFGNwjf0/10mMYj2SRfA/wnH5e59Ql2bd2+cfPjy85wo+95b5xj/XSYxiPZ5jpPiHUtF1z+1rS4Z7pmJmMpLCcE5If1z+navevDPiax8U6ULuxO11ws8DH5oW9D6j0Pf8xXTicrhh7NxTXoY0c9x9XT287/4pf5nJxfA/wnH5e59Ql2bd2+cfPjy85wo+95b5xj/XSYxiPYRfA/wnH5e59Ql2bd2+cfPjy85wo+95b5xj/XSYxiPZ6LRXF7Cj/IvuR0f2tmP/AD/n/wCBS/zPOovgf4Tj8vc+oS7Nu7fOPnx5ec4Ufe8t84x/rpMYxHsIvgf4Tj8vc+oS7Nu7fOPnx5ec4Ufe8t84x/rpMYxHs9Foo9hR/kX3IP7WzH/n/P8A8Cl/medRfA/wnH5e59Ql2bd2+cfPjy85wo+95b5xj/XSYxiPYRfA/wAJx+XufUJdm3dvnHz48vOcKPveW+cY/wBdJjGI9notFHsKP8i+5B/a2Y/8/wCf/gUv8zzqL4H+E4/L3PqEuzbu3zj58eXnOFH3vLfOMf66TGMR7CL4H+E4/L3PqEuzbu3zj58eXnOFH3vLfOMf66TGMR7PRaKPYUf5F9yD+1sx/wCf8/8AwKX+Z51F8D/Ccfl7n1CXZt3b5x8+PLznCj73lvnGP9dJjGI9hF8D/Ccfl7n1CXZt3b5x8+PLznCj73lvnGP9dJjGI9notFHsKP8AIvuQf2tmP/P+f/gUv8zzqL4H+E4/L3PqEuzbu3zj58eXnOFH3vLfOMf66TGMR7CL4H+E4/L3PqEuzbu3zj58eXnOFH3vLfOMf66TGMR7PRaKPYUf5F9yD+1sx/5/z/8AApf5nnUXwP8ACcfl7n1CXZt3b5x8+PLznCj73lvnGP8AXSYxiPYRfA/wnH5e59Ql2bd2+cfPjy85wo+95b5xj/XSYxiPZ6LRR7Cj/IvuQf2tmP8Az/n/AOBS/wAzzqL4H+E4/L3PqEuzbu3zj58eXnOFH3vLfOMf66TGMR7CL4H+E4/L3PqEuzbu3zj58eXnOFH3vLfOMf66TGMR7PRaKPYUf5F9yD+1sx/5/wA//Apf5nnUXwP8Jx+XufUJdm3dvnHz48vOcKPveW+cY/10mMYj2EXwP8Jx+XufUJdm3dvnHz48vOcKPveW+cY/10mMYj2ei0Uewo/yL7kH9rZj/wA/5/8AgUv8zzqL4H+E4/L3PqEuzbu3zj58eXnOFH3vLfOMf66TGMR7CL4H+E4/L3PqEuzbu3zj58eXnOFH3vLfOMf66TGMR7PRaKPYUf5F9yD+1sx/5/z/APApf5nnUXwP8Jx+XufUJdm3dvnHz48vOcKPveW+cY/10mMYj2NHwN8KGDyZJtUeJgizJ9r2CcKYjh9oGQTESR0zKxGCsfl+j0VUaVODUoxSa8jOpmWNqwdOpWk4vdOTafyueWxfs8eBY/L3R6hLs27t919/Hl5zgD73lvnGP9dJjGI9hF+zx4Fj8vdHqEuzbu33X38eXnOAPveW+cY/10mMYj2epVQ1nWbLQNLlv9Sl8uGPgAcs7dlUdya6lVrN2Un97PNcIJXaR5ufgB8P7PyPtRvPmdI18682+c37v5eAOW8t8gY/10mMYj2Sxfs8eBY/L3R6hLs27t919/Hl5zgD73lvnGP9dJjGI9nDeKfFN94q1T7VdkxQxki3t1biEevux7n+lei/D34hf2j5Wja9Li9+7b3LH/X/AOy3+3/6F9evfVw2Jp0lPmfnrsc0K1Gc+WxTi/Z48Cx+Xuj1CXZt3b7r7+PLznAH3vLfOMf66TGMR7CL9njwLH5e6PUJdm3dvuvv48vOcAfe8t84x/rpMYxHs9Sorz/bVf5n951ezh2PLYv2ePAsfl7o9Ql2bd2+6+/jy85wB97y3zjH+ukxjEewi/Z48Cx+Xuj1CXZt3b7r7+PLznAH3vLfOMf66TGMR7PUqKPbVf5n94ezh2PLYv2ePAsfl7o9Ql2bd2+6+/jy85wB97y3zjH+ukxjEewi/Z48Cx+Xuj1CXZt3b7r7+PLznAH3vLfOMf66TGMR7PUqKPbVf5n94ezh2PLYv2ePAsfl7o9Ql2bd2+6+/jy85wB97y3zjH+ukxjEewi/Z48Cx+Xuj1CXZt3b7r7+PLznAH3vLfOMf66TGMR7PUqKPbVf5n94ezh2PLYv2ePAsfl7o9Ql2bd2+6+/jy85wB97y3zjH+ukxjEewi/Z48Cx+Xuj1CXZt3b7r7+PLznAH3vLfOMf66TGMR7PUqKPbVf5n94ezh2PLYv2ePAsfl7o9Ql2bd2+6+/jy85wB97y3zjH+ukxjEewi/Z48Cx+Xuj1CXZt3b7r7+PLznAH3vLfOMf66TGMR7PUqKPbVf5n94ezh2PLYv2ePAsfl7o9Ql2bd2+6+/jy85wB97y3zjH+ukxjEewi/Z48Cx+Xuj1CXZt3b7r7+PLznAH3vLfOMf66TGMR7PUqKPbVf5n94ezh2PLYv2ePAsfl7o9Ql2bd2+6+/jy85wB97y3zjH+ukxjEewi/Z48Cx+Xuj1CXZt3b7r7+PLznAH3vLfOMf66TGMR7PUqKPbVf5n94ezh2PLYv2ePAsfl7o9Ql2bd2+6+/jy85wB97y3zjH+ukxjEewi/Z48Cx+Xuj1CXZt3b7r7+PLznAH3vLfOMf66TGMR7PUqKPbVf5n94ezh2PLYv2ePAsfl7o9Ql2bd2+6+/jy85wB97y3zjH+ukxjEewi/Z48Cx+Xuj1CXZt3b7r7+PLznAH3vLfOMf66TGMR7PUqKPbVf5n94ezh2PLYv2ePAsfl7o9Ql2bd2+6+/jy85wB97y3zjH+ukxjEewi/Z48Cx+Xuj1CXZt3b7r7+PLznAH3vLfOMf66TGMR7PUqKPbVf5n94ezh2OZ8FeAtI8BWNxaaG940VyyPILm4LjcqKhYLwqlsFmIHJOPuqqr01FFZttu7KSS0QUUUUhhRRRQAUUUUAFFFFABRRRQAUUUUAFFFFABRRRQAUUUUAFFFFABRRRQAUUUUAFFFFABRRRQAjqWjZVYoSCAy4yvuM8V5B8SPBWmaDo0ep2cl3Jdz3irK885k37lYknPU5A5r2CuA+Mf/ACJ1r/1/p/6A9deDnKNaKT3ZhXinTbZ4u33T9K9x8E+CdN02x03WbKa8ju57SN5f32VfcoJBUjGM/l2rw5vun6V9J+GP+RR0f/rxg/8ARYr1c0nKMIpPc4sHFOTuR+JfFWkeENLGo+ILiW2tDII/NS2lmCsemfLViMnjJ4zgdTVfV/HXhvQfDNr4g1TU1h0u8CNbzrE7+YGXcuFVS33QT04A5rC+MF7Y2fg+y/tK6t7eOTWLH/XyKgYLcIzdeuFBJ9ACa8h1pZB4Y8S6FqbCHTvBNpdW9jLM4Ane5b/R9pJ5Ih3KB/tCvnk7p/1okn+N7I9a2q/rdv8Ay1PpWzu4r+yhu7fzPKmQOnmxNG2CMjKsAyn2IBpt/dGx0+4ult5bkwxs/kwlQ74GcDcQufqQPevKdf1+xn8WWlv4i8TXmj+HH0KO40250+9e2jupySHPnRn52VdhVMkHOcGufh8QatfDR7f4jazrWiJJoHm2htGkga8ujI4+YIv7yTYIz5RGPmPynNE9L28/1/y/FEw1tfy/G3+Z7V4Z8QWvirwzY65p8c0dtfRCWNJ1AcDPcAkZ49TUOp+J7fSvE+j6JcWl00msNItvcIEMSsiFyrZYMDtHZSPevDbPxLead8Nfh5DDeCHQpLadL6ZdSksE89D8kclzEjtH1Y7flyRgnjFb8OtXJvvhj/ber2d5qn2m+2SiY/v1MUiRHLqhbPyruwAx5Gc1c7Jtra4o35dd7foe21X1C/ttL025v7+YQWtrE000jA4RFGSePYV4n4X8Q3t3ceFZ7PxBqt94rutRMev6VPcSGO3hw/m7rc/LCEIXaQFJ9Tmuw+K+rLOuj+ELOSzk1DWr2Nntbq7EAkgjbzGUthiN5QIMKc5IqWnbTvb8vvWv5jT116a/156fkdlpviHStW8Ow67YX0T6XNF5yXT5jXYOpO7G3GDnOMVpda+cNV1BbTwN4+8G6pLDaXenXY1O2s7DUGkWOCV1eSMFQhZULMSpUY3A46Gurjk0nXPiXpmi6P4u1dNOvNAllTyNam8ySVZl2updic7Qx4+8F53LTWrVuv8Ak3+jXqJ3S16f5pfrc7u78d29hf2lteaLq8K3eqnSop5IURDLjKuMuGMbDOGUH7pzjjPU1886jq1rfwTwSeIbya0sPHi7biK7a6ltbcW7HcrEsVUESHPQYY9qmudZvLazn1PTfEGr3nhjS/FFkLfU5L6Vw1scfaVZ8/vYlcAAtuA5wetKDTSv5fio/wCY5aO3r+Dl/ke5azqf9jaRNf8A2G8v/Jx/o9jF5sz5IHyrkZxnP0Bpusa5p+gact9rFx9lt2ljh3lGbDuwVRhQerEDPQd68S1jxXE3gv4kXNl4iv4PJv4ptKd9SmikAaOPBjLOGKMxcgD5SOgxiva7ix03xJotul2qXtnIYbmMrIdrlWWRGDKeRkA+h9xQtk/T8f1B729fwMa5+JnhW1t7Wd765kjvLmW1gMGnXM2+aMkPHhIydwIPB6gEjI5pYfiX4Unk8v8AtCaGT7QLUx3FhcQuJTGZApV0BGUUnJGPzFcV8UoNF8Nz+DLG21SPQEOvyXjT+cheLckrSS/vdwxvfuCBuA44rd8GyaD4p+1WL63L4sl0W++1Jqcjrt3TK+1VMbbTtRmXGABngDHCV2nb+tv82DspW/rr/kjt9J1Wy1zSLXVNLnFxZ3cQlhlCld6kZBwQCPoRVuqumabaaNpVrpumwiC0tIlhhiDFtiKMAZJJPA6nmrVU7X0Er21CiiikMKKKKACud8Q+CdM8T3cc+rTXj+UMRxpNtRPUgAdT69fwAroqKqMpQd4uzE4qSsz5YUYXGScHGTXb/DjwjpniltSOqG4zamLy/KlKY3bs/wDoIriR3+p/nXqfwV/5jn1g/k9fT42Uo4ZuL10PHw8U6tmenWsBtrWOEzSzeWu3zJTlm+p7n3rM8S+KtI8IaWNR8QXEttaGQR+altLMFY9M+WrEZPGTxnA6mtiuC+MF7Y2fg+y/tK6t7eOTWLH/AF8ioGC3CM3XrhQSfQAmvlndtJdWvxZ7StZ+j/I3dX8deG9B8M2viDVNTWHS7wI1vOsTv5gZdy4VVLfdBPTgDmtqzu4r+yhu7fzPKmQOnmxNG2CMjKsAyn2IBr5q1pZB4Y8S6FqbCHTvBNpdW9jLM4Ane5b/AEfaSeSIdygf7Qrvdf1+xn8WWlv4i8TXmj+HH0KO40250+9e2jupySHPnRn52VdhVMkHOcGi6tdddvSzevnp+KFqtO2/3rby1PVr+6Njp9xdLby3JhjZ/JhKh3wM4G4hc/Uge9U/DPiC18VeGbHXNPjmjtr6ISxpOoDgZ7gEjPHqa8Vh8QatfDR7f4jazrWiJJoHm2htGkga8ujI4+YIv7yTYIz5RGPmPynNUbPxLead8Nfh5DDeCHQpLadL6ZdSksE89D8kclzEjtH1Y7flyRgnjFPv6/5/5fl3Dt/Xb/P8+x7lqfie30rxPo+iXFpdNJrDSLb3CBDErIhcq2WDA7R2Uj3rarxKHWrk33wx/tvV7O81T7TfbJRMf36mKRIjl1Qtn5V3YAY8jOag8L+Ib27uPCs9n4g1W+8V3WomPX9KnuJDHbw4fzd1uflhCELtICk+pzQlrb+v6XXsKTsr+X+f5207ntmoX9tpem3N/fzCC1tYmmmkYHCIoyTx7Cqum+IdK1bw7DrthfRPpc0XnJdPmNdg6k7sbcYOc4xXG/FfVlnXR/CFnJZyahrV7Gz2t1diASQRt5jKWwxG8oEGFOckV5pquoLaeBvH3g3VJYbS7067Gp21nYag0ixwSuryRgqELKhZiVKjG4HHQ1Kd7/1ta/5/KzKtql/Wu39eaPo/rXLXfju3sL+0trzRdXhW71U6VFPJCiIZcZVxlwxjYZwyg/dOccZ4SOTSdc+JemaLo/i7V00680CWVPI1qbzJJVmXa6l2JztDHj7wXnctc7qOrWt/BPBJ4hvJrSw8eLtuIrtrqW1txbsdysSxVQRIc9Bhj2pr4lf+rSUSd4t/18LZ9DVR1nU/7G0ia/8AsN5f+Tj/AEexi82Z8kD5VyM4zn6A14bc6zeW1nPqem+INXvPDGl+KLIW+pyX0rhrY4+0qz5/exK4ABbcBzg9afrHiuJvBfxIubLxFfweTfxTaU76lNFIA0ceDGWcMUZi5AHykdBjFGj/AK/wv9fwZSWqXf8A4P8Al+J7brGuafoGnLfaxcfZbdpY4d5Rmw7sFUYUHqxAz0Hesd/iN4YRbFhfTyLf3cllbGGwuJA86MVaP5UOCCD1xkAkZAzWtcWOm+JNFt0u1S9s5DDcxlZDtcqyyIwZTyMgH0PuK888fR6J4Z1zwHZQS29jG3iN7to5Z8El1lLv8xzgvJ9AWA9BTt7yT72/L/g/gRe8OZdr/g/+Advpvjbw9rGqrpunaiJrtzOFi8p1yYXCS8lQOGIHv1GRzW9WPYeE9E0zUkv7GxEV0nn7ZPMc48+QSS8E4+ZlB9sYGBxWxS6Lv1K6vsFFFFABRRRQAUUUUAFFFFABRRRQAUUUUAFFFFABRRRQAUUUUAFFFFABRRRQAUUUUAFFFFABRRRQAUUUUAFFFFABRRRQAVz/AIz8Lnxbosdgt4LMxzrMJDF5mcBhjG4f3vWugoqoycJKUd0KUVJWZ5OfgnOQR/wkcf8A4Lz/APHa9O0uy/s3SLOx8zzPs0CQ78Y3bVAzjt0q1RWtXEVaySm72IhShT+FBRRRWBoFFFFABRRRQAUUUUAFFFFABRRRQAUUUUAFFFFABRRRQAUUUUAFFFFABRRRQB5QfgpNuO3xEgGSQDp5P/tWus8D+CW8HLfb9RF6bsociDytm3d/tNn71dXRXTUxVapHklLQxjRpxfNFahRRRXMbBRRRQAUUUUAFFFFABRRRQAUUUUAFFFFABRRRQAUUUUAFFFFABRRRQAUUUUAFFFFABRRRQAUUUUAFFFFABRRRQAUUUUAFFFFABRRRQAUUUUAFFFFABRRRQAUUUUAFFFFABRRRQAUUUUAFFFFABRRRQAUUUUAFFFFABRRRQAUUUUAFFFFABRRRQAUUUUAFFFFABRRRQAUUUUAFFFFABRRRQAUUUUAFFFFABRRRQAUUUUAFFFFABRRRQAUUUUAFFFFABRRRQAUUUUAFFFFABRRRQAUUUUAFFFFABRRRQAUUUUAFFFFABRRRQAUUUUAFFFFABRRRQAUUUUAFFFFABRRRQAUUUUAFFFFABRRRQAUUUUAFFFFABRRRQAUUUUAFFFFABRRRQAUUUUAFFFFABRRRQAUUUUAFFFFABRRRQAUUUUAFFFFABRRRQAUUUUAFFFFABRRRQAUUUUAFFFFABRRRQAUUUUAFFFFABRRRQAUUUUAFFFFABRRRQB//2Q==)\n",
        "\n"
      ],
      "metadata": {
        "id": "9ekXOa35JqbI"
      }
    },
    {
      "cell_type": "code",
      "source": [
        "# Aplicação do modelo de regressão logística\n",
        "train_model(linear_model.LogisticRegression(), x_train, y_train, x_valid, y_valid)"
      ],
      "metadata": {
        "colab": {
          "base_uri": "https://localhost:8080/",
          "height": 563
        },
        "id": "TSV1K2ic7zu5",
        "outputId": "c6aa05a7-5f0a-4c4c-89d3-c1b2fd3676ae"
      },
      "execution_count": 19,
      "outputs": [
        {
          "output_type": "display_data",
          "data": {
            "image/png": "[encoded data removed]",
            "text/plain": [
              "<Figure size 576x432 with 2 Axes>"
            ]
          },
          "metadata": {
            "needs_background": "light"
          }
        },
        {
          "output_type": "stream",
          "name": "stdout",
          "text": [
            "              precision    recall  f1-score   support\n",
            "\n",
            "           E   0.998111  0.999324  0.998717      7401\n",
            "           I   0.997135  0.992018  0.994570      1754\n",
            "\n",
            "    accuracy                       0.997925      9155\n",
            "   macro avg   0.997623  0.995671  0.996644      9155\n",
            "weighted avg   0.997924  0.997925  0.997923      9155\n",
            "\n",
            "Coeficiente de Matthew: 0.993292\n"
          ]
        }
      ]
    },
    {
      "cell_type": "code",
      "source": [
        "# Aplicação do modelo naive bayes\n",
        "train_model(naive_bayes.MultinomialNB(), x_train, y_train, x_valid, y_valid)"
      ],
      "metadata": {
        "colab": {
          "base_uri": "https://localhost:8080/",
          "height": 563
        },
        "id": "xZ01tUNWvfV0",
        "outputId": "bb4652f0-4949-41d4-f880-55fcc7799caf"
      },
      "execution_count": 21,
      "outputs": [
        {
          "output_type": "display_data",
          "data": {
            "image/png": "[encoded data removed]",
            "text/plain": [
              "<Figure size 576x432 with 2 Axes>"
            ]
          },
          "metadata": {
            "needs_background": "light"
          }
        },
        {
          "output_type": "stream",
          "name": "stdout",
          "text": [
            "              precision    recall  f1-score   support\n",
            "\n",
            "           E   0.995693  0.999460  0.997572      7401\n",
            "           I   0.997683  0.981756  0.989655      1754\n",
            "\n",
            "    accuracy                       0.996068      9155\n",
            "   macro avg   0.996688  0.990608  0.993614      9155\n",
            "weighted avg   0.996074  0.996068  0.996056      9155\n",
            "\n",
            "Coeficiente de Matthew: 0.987277\n"
          ]
        }
      ]
    },
    {
      "cell_type": "code",
      "source": [
        "# Aplicação do modelo knn\n",
        "train_model(neighbors.KNeighborsClassifier(), x_train, y_train, x_valid, y_valid)"
      ],
      "metadata": {
        "colab": {
          "base_uri": "https://localhost:8080/",
          "height": 563
        },
        "id": "nnd5ck6zCRH2",
        "outputId": "7cdf81c9-ddd5-415a-8fc5-23cf1fff2674"
      },
      "execution_count": 20,
      "outputs": [
        {
          "output_type": "display_data",
          "data": {
            "image/png": "[encoded data removed]",
            "text/plain": [
              "<Figure size 576x432 with 2 Axes>"
            ]
          },
          "metadata": {
            "needs_background": "light"
          }
        },
        {
          "output_type": "stream",
          "name": "stdout",
          "text": [
            "              precision    recall  f1-score   support\n",
            "\n",
            "           E   0.998919  0.998784  0.998851      7401\n",
            "           I   0.994872  0.995439  0.995155      1754\n",
            "\n",
            "    accuracy                       0.998143      9155\n",
            "   macro avg   0.996895  0.997111  0.997003      9155\n",
            "weighted avg   0.998144  0.998143  0.998143      9155\n",
            "\n",
            "Coeficiente de Matthew: 0.994007\n"
          ]
        }
      ]
    },
    {
      "cell_type": "code",
      "source": [
        "# Aplicação do modelo SVM\n",
        "train_model(svm.SVC(), x_train, y_train, x_valid, y_valid)"
      ],
      "metadata": {
        "id": "IZ3STWBuC51o",
        "colab": {
          "base_uri": "https://localhost:8080/",
          "height": 563
        },
        "outputId": "2ba58a34-d4b6-4e15-990c-b907cf1d8343"
      },
      "execution_count": 22,
      "outputs": [
        {
          "output_type": "display_data",
          "data": {
            "image/png": "[encoded data removed]",
            "text/plain": [
              "<Figure size 576x432 with 2 Axes>"
            ]
          },
          "metadata": {
            "needs_background": "light"
          }
        },
        {
          "output_type": "stream",
          "name": "stdout",
          "text": [
            "              precision    recall  f1-score   support\n",
            "\n",
            "           E   0.998784  0.998919  0.998852      7401\n",
            "           I   0.995436  0.994869  0.995153      1754\n",
            "\n",
            "    accuracy                       0.998143      9155\n",
            "   macro avg   0.997110  0.996894  0.997002      9155\n",
            "weighted avg   0.998143  0.998143  0.998143      9155\n",
            "\n",
            "Coeficiente de Matthew: 0.994004\n"
          ]
        }
      ]
    },
    {
      "cell_type": "code",
      "source": [
        "# Aplicação do modelo de árvore de decisão\n",
        "train_model(tree.DecisionTreeClassifier(), x_train, y_train, x_valid, y_valid)"
      ],
      "metadata": {
        "colab": {
          "base_uri": "https://localhost:8080/",
          "height": 563
        },
        "id": "Oq_KfuwaSmP4",
        "outputId": "3ee6035d-f278-47dc-8d74-3e9fe4858881"
      },
      "execution_count": 23,
      "outputs": [
        {
          "output_type": "display_data",
          "data": {
            "image/png": "[encoded data removed]",
            "text/plain": [
              "<Figure size 576x432 with 2 Axes>"
            ]
          },
          "metadata": {
            "needs_background": "light"
          }
        },
        {
          "output_type": "stream",
          "name": "stdout",
          "text": [
            "              precision    recall  f1-score   support\n",
            "\n",
            "           E   0.999190  0.999460  0.999325      7401\n",
            "           I   0.997717  0.996579  0.997148      1754\n",
            "\n",
            "    accuracy                       0.998908      9155\n",
            "   macro avg   0.998453  0.998019  0.998236      9155\n",
            "weighted avg   0.998907  0.998908  0.998907      9155\n",
            "\n",
            "Coeficiente de Matthew: 0.996473\n"
          ]
        }
      ]
    },
    {
      "cell_type": "code",
      "source": [
        "# Aplicação do modelo Random Forest\n",
        "train_model(RandomForestClassifier(), x_train, y_train, x_valid, y_valid)"
      ],
      "metadata": {
        "colab": {
          "base_uri": "https://localhost:8080/",
          "height": 568
        },
        "id": "oXleB7EbS0dv",
        "outputId": "11e2cfa0-7980-4dcb-c434-b876d2a868cd"
      },
      "execution_count": null,
      "outputs": [
        {
          "output_type": "display_data",
          "data": {
            "image/png": "[encoded data removed]",
            "text/plain": [
              "<Figure size 576x432 with 2 Axes>"
            ]
          },
          "metadata": {}
        },
        {
          "output_type": "stream",
          "name": "stdout",
          "text": [
            "              precision    recall  f1-score   support\n",
            "\n",
            "           E   0.997708  0.999865  0.998785      7401\n",
            "           I   0.999425  0.990308  0.994845      1754\n",
            "\n",
            "    accuracy                       0.998034      9155\n",
            "   macro avg   0.998566  0.995086  0.996815      9155\n",
            "weighted avg   0.998037  0.998034  0.998030      9155\n",
            "\n",
            "Coeficiente de Matthew: 0.993647\n"
          ]
        }
      ]
    }
  ]
}